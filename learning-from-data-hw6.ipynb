{
 "cells": [
  {
   "cell_type": "code",
   "execution_count": 47,
   "metadata": {
    "collapsed": true
   },
   "outputs": [],
   "source": [
    "%matplotlib inline\n",
    "from math import e\n",
    "import math\n",
    "import numpy as np"
   ]
  },
  {
   "cell_type": "markdown",
   "metadata": {},
   "source": [
    "## Regularization with Weight Decay"
   ]
  },
  {
   "cell_type": "code",
   "execution_count": 7,
   "metadata": {
    "collapsed": false
   },
   "outputs": [],
   "source": [
    "in_dta = np.loadtxt('in.dta')\n",
    "out_dta = np.loadtxt('out.dta')"
   ]
  },
  {
   "cell_type": "code",
   "execution_count": 11,
   "metadata": {
    "collapsed": false
   },
   "outputs": [
    {
     "data": {
      "text/plain": [
       "(array([[-0.77947021,  0.83822138,  1.        ],\n",
       "        [ 0.15563491,  0.89537743,  1.        ],\n",
       "        [-0.0599077 , -0.71777995,  1.        ],\n",
       "        [ 0.20759636,  0.75893338,  1.        ],\n",
       "        [-0.19598312, -0.37548716, -1.        ]]),\n",
       " array([[-0.10600562, -0.08146703, -1.        ],\n",
       "        [ 0.17792951, -0.34595141, -1.        ],\n",
       "        [ 0.10216153,  0.71825825,  1.        ],\n",
       "        [ 0.69407831,  0.62339743, -1.        ],\n",
       "        [ 0.02354107,  0.72743221,  1.        ]]))"
      ]
     },
     "execution_count": 11,
     "metadata": {},
     "output_type": "execute_result"
    }
   ],
   "source": [
    "in_dta[:5], out_dta[:5]"
   ]
  },
  {
   "cell_type": "code",
   "execution_count": 32,
   "metadata": {
    "collapsed": false
   },
   "outputs": [
    {
     "data": {
      "text/plain": [
       "(array([[ 1.        , -0.77947021,  0.83822138],\n",
       "        [ 1.        ,  0.15563491,  0.89537743],\n",
       "        [ 1.        , -0.0599077 , -0.71777995],\n",
       "        [ 1.        ,  0.20759636,  0.75893338],\n",
       "        [ 1.        , -0.19598312, -0.37548716]]),\n",
       " array([ 1.,  1.,  1.,  1., -1.]))"
      ]
     },
     "execution_count": 32,
     "metadata": {},
     "output_type": "execute_result"
    }
   ],
   "source": [
    "x_in = np.append(np.ones((len(in_dta),1)), in_dta[:,:2], axis=1)\n",
    "y_in = in_dta[:,2]\n",
    "x_in[:5], y_in[:5]"
   ]
  },
  {
   "cell_type": "code",
   "execution_count": 33,
   "metadata": {
    "collapsed": false,
    "scrolled": true
   },
   "outputs": [
    {
     "data": {
      "text/plain": [
       "(array([[ 1.        , -0.10600562, -0.08146703],\n",
       "        [ 1.        ,  0.17792951, -0.34595141],\n",
       "        [ 1.        ,  0.10216153,  0.71825825],\n",
       "        [ 1.        ,  0.69407831,  0.62339743],\n",
       "        [ 1.        ,  0.02354107,  0.72743221]]),\n",
       " array([-1., -1.,  1., -1.,  1.]))"
      ]
     },
     "execution_count": 33,
     "metadata": {},
     "output_type": "execute_result"
    }
   ],
   "source": [
    "x_out = np.append(np.ones((len(out_dta),1)), out_dta[:,:2], axis=1)\n",
    "y_out = out_dta[:,2]\n",
    "x_out[:5], y_out[:5]"
   ]
  },
  {
   "cell_type": "code",
   "execution_count": 77,
   "metadata": {
    "collapsed": false
   },
   "outputs": [],
   "source": [
    "lin_reg = lambda x,y: np.linalg.inv(x.T.dot(x)).dot(x.T).dot(y)\n",
    "class_err = lambda r,y: 1 - len(r[r == y]) / len(r)"
   ]
  },
  {
   "cell_type": "code",
   "execution_count": 44,
   "metadata": {
    "collapsed": false
   },
   "outputs": [
    {
     "data": {
      "text/plain": [
       "array([ 0.14083789, -0.12469201,  0.14959674])"
      ]
     },
     "execution_count": 44,
     "metadata": {},
     "output_type": "execute_result"
    }
   ],
   "source": [
    "lin_reg(x_in, y_in)"
   ]
  },
  {
   "cell_type": "code",
   "execution_count": 50,
   "metadata": {
    "collapsed": true
   },
   "outputs": [],
   "source": [
    "trans = lambda x: [1,x[0],x[1],x[0]*x[0],x[1]*x[1],x[0]*x[1],np.abs(x[0]-x[1]),np.abs(x[0]+x[1])]"
   ]
  },
  {
   "cell_type": "code",
   "execution_count": 53,
   "metadata": {
    "collapsed": false
   },
   "outputs": [
    {
     "data": {
      "text/plain": [
       "array([-1.64706706, -0.14505927,  0.10154121, -2.03296844, -1.82804373,\n",
       "        2.48152945,  4.15893861,  0.31651714])"
      ]
     },
     "execution_count": 53,
     "metadata": {},
     "output_type": "execute_result"
    }
   ],
   "source": [
    "z_in = np.apply_along_axis(trans, 1, in_dta)\n",
    "w_lin = lin_reg(z_in, y_in)\n",
    "w_lin"
   ]
  },
  {
   "cell_type": "code",
   "execution_count": 78,
   "metadata": {
    "collapsed": false
   },
   "outputs": [
    {
     "data": {
      "text/plain": [
       "0.02857142857142858"
      ]
     },
     "execution_count": 78,
     "metadata": {},
     "output_type": "execute_result"
    }
   ],
   "source": [
    "z_in_result = np.sign(z_in.dot(w_lin))\n",
    "#1 - len(z_in_result[z_in_result == y_in]) / len(z_in_result)\n",
    "class_err(z_in_result, y_in)"
   ]
  },
  {
   "cell_type": "code",
   "execution_count": 79,
   "metadata": {
    "collapsed": false
   },
   "outputs": [
    {
     "data": {
      "text/plain": [
       "0.08399999999999996"
      ]
     },
     "execution_count": 79,
     "metadata": {},
     "output_type": "execute_result"
    }
   ],
   "source": [
    "z_out = np.apply_along_axis(trans, 1, out_dta)\n",
    "z_out_result = np.sign(z_out.dot(w_lin))\n",
    "#1 - len(z_out_result[z_out_result == y_out]) / len(z_out_result)\n",
    "class_err(z_out_result, y_out)"
   ]
  },
  {
   "cell_type": "code",
   "execution_count": 95,
   "metadata": {
    "collapsed": false
   },
   "outputs": [
    {
     "data": {
      "text/plain": [
       "0.001"
      ]
     },
     "execution_count": 95,
     "metadata": {},
     "output_type": "execute_result"
    }
   ],
   "source": [
    "10**-3"
   ]
  },
  {
   "cell_type": "code",
   "execution_count": 94,
   "metadata": {
    "collapsed": false
   },
   "outputs": [
    {
     "data": {
      "text/plain": [
       "array([[  3.50030000e+01,   3.24728985e+00,   3.17911270e+00,\n",
       "          1.18166779e+01,   1.24501605e+01,  -2.32118150e+00,\n",
       "          2.61821824e+01,   2.03715598e+01],\n",
       "       [  3.24728985e+00,   1.18196779e+01,  -2.32118150e+00,\n",
       "          1.29844813e+00,   1.70886992e-02,   1.50139990e+00,\n",
       "          8.81263043e-01,   3.83874727e+00],\n",
       "       [  3.17911270e+00,  -2.32118150e+00,   1.24531605e+01,\n",
       "          1.50139990e+00,   2.76557867e+00,   1.70886992e-02,\n",
       "          3.17283139e+00,   3.49066303e+00],\n",
       "       [  1.18166779e+01,   1.29844813e+00,   1.50139990e+00,\n",
       "          7.56895595e+00,   4.53119818e+00,  -1.30210166e+00,\n",
       "          1.14215986e+01,   7.76352565e+00],\n",
       "       [  1.24501605e+01,   1.70886992e-02,   2.76557867e+00,\n",
       "          4.53119818e+00,   6.69679602e+00,  -1.36229558e+00,\n",
       "          1.14543114e+01,   8.04284885e+00],\n",
       "       [ -2.32118150e+00,   1.50139990e+00,   1.70886992e-02,\n",
       "         -1.30210166e+00,  -1.36229558e+00,   4.53419818e+00,\n",
       "         -7.21144505e+00,   3.70857140e+00],\n",
       "       [  2.61821824e+01,   8.81263043e-01,   3.17283139e+00,\n",
       "          1.14215986e+01,   1.14543114e+01,  -7.21144505e+00,\n",
       "          2.89122013e+01,   1.06140800e+01],\n",
       "       [  2.03715598e+01,   3.83874727e+00,   3.49066303e+00,\n",
       "          7.76352565e+00,   8.04284885e+00,   3.70857140e+00,\n",
       "          1.06140800e+01,   1.96274754e+01]])"
      ]
     },
     "execution_count": 94,
     "metadata": {},
     "output_type": "execute_result"
    }
   ],
   "source": [
    "z_in.T.dot(z_in) + np.identity(z_in.shape[1]) * 0.003"
   ]
  },
  {
   "cell_type": "code",
   "execution_count": 96,
   "metadata": {
    "collapsed": true
   },
   "outputs": [],
   "source": [
    "lin_w_reg = lambda x,k,y: np.linalg.inv(x.T.dot(x) + np.identity(x.shape[1]) * (10**k)).dot(x.T).dot(y)"
   ]
  },
  {
   "cell_type": "code",
   "execution_count": 98,
   "metadata": {
    "collapsed": false
   },
   "outputs": [
    {
     "data": {
      "text/plain": [
       "array([-1.6432827 , -0.14333537,  0.10144329, -2.02456533, -1.81721505,\n",
       "        2.45550685,  4.14009201,  0.31960135])"
      ]
     },
     "execution_count": 98,
     "metadata": {},
     "output_type": "execute_result"
    }
   ],
   "source": [
    "w_reg_n3 = lin_w_reg(z_in, -3, y_in)\n",
    "w_reg_n3"
   ]
  },
  {
   "cell_type": "code",
   "execution_count": 99,
   "metadata": {
    "collapsed": false
   },
   "outputs": [
    {
     "data": {
      "text/plain": [
       "0.02857142857142858"
      ]
     },
     "execution_count": 99,
     "metadata": {},
     "output_type": "execute_result"
    }
   ],
   "source": [
    "z_in_result = np.sign(z_in.dot(w_reg_n3))\n",
    "class_err(z_in_result, y_in)"
   ]
  },
  {
   "cell_type": "code",
   "execution_count": 100,
   "metadata": {
    "collapsed": false
   },
   "outputs": [
    {
     "data": {
      "text/plain": [
       "0.07999999999999996"
      ]
     },
     "execution_count": 100,
     "metadata": {},
     "output_type": "execute_result"
    }
   ],
   "source": [
    "z_out_result = np.sign(z_out.dot(w_reg_n3))\n",
    "class_err(z_out_result, y_out)"
   ]
  },
  {
   "cell_type": "code",
   "execution_count": 101,
   "metadata": {
    "collapsed": false
   },
   "outputs": [
    {
     "name": "stdout",
     "output_type": "stream",
     "text": [
      "E_in 0.37142857142857144\n",
      "E_out 0.43600000000000005\n"
     ]
    }
   ],
   "source": [
    "w_reg_3 = lin_w_reg(z_in, 3, y_in)\n",
    "z_in_result = np.sign(z_in.dot(w_reg_3))\n",
    "print(\"E_in\", class_err(z_in_result, y_in))\n",
    "z_out_result = np.sign(z_out.dot(w_reg_3))\n",
    "print(\"E_out\", class_err(z_out_result, y_out))"
   ]
  },
  {
   "cell_type": "code",
   "execution_count": 104,
   "metadata": {
    "collapsed": false
   },
   "outputs": [
    {
     "name": "stdout",
     "output_type": "stream",
     "text": [
      "2 0.22799999999999998\n",
      "1 0.124\n",
      "0 0.09199999999999997\n",
      "-1 0.05600000000000005\n",
      "-2 0.08399999999999996\n"
     ]
    }
   ],
   "source": [
    "for k in [2,1,0,-1,-2]:\n",
    "    w = lin_w_reg(z_in, k, y_in)\n",
    "    z_out_result = np.sign(z_out.dot(w))\n",
    "    print(k, class_err(z_out_result, y_out))"
   ]
  },
  {
   "cell_type": "markdown",
   "metadata": {},
   "source": [
    "## Regularization for Polynomials"
   ]
  },
  {
   "cell_type": "code",
   "execution_count": null,
   "metadata": {
    "collapsed": true
   },
   "outputs": [],
   "source": []
  }
 ],
 "metadata": {
  "kernelspec": {
   "display_name": "Python 3",
   "language": "python",
   "name": "python3"
  },
  "language_info": {
   "codemirror_mode": {
    "name": "ipython",
    "version": 3
   },
   "file_extension": ".py",
   "mimetype": "text/x-python",
   "name": "python",
   "nbconvert_exporter": "python",
   "pygments_lexer": "ipython3",
   "version": "3.6.0"
  }
 },
 "nbformat": 4,
 "nbformat_minor": 2
}
