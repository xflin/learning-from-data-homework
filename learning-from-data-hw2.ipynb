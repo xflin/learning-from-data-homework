{
 "cells": [
  {
   "cell_type": "code",
   "execution_count": 1,
   "metadata": {
    "collapsed": true
   },
   "outputs": [],
   "source": [
    "%matplotlib inline\n",
    "import numpy as np\n",
    "import pandas as pd\n",
    "import matplotlib.pyplot as plt\n",
    "from matplotlib import pylab, mlab, pyplot\n",
    "from matplotlib.lines import Line2D \n",
    "from pandas import DataFrame, Series\n",
    "from IPython.display import display\n",
    "from IPython.core.pylabtools import figsize, getfigs\n",
    "import requests\n",
    "import re\n",
    "import json"
   ]
  },
  {
   "cell_type": "code",
   "execution_count": 90,
   "metadata": {
    "collapsed": false
   },
   "outputs": [
    {
     "name": "stdout",
     "output_type": "stream",
     "text": [
      "0.037923\n"
     ]
    },
    {
     "data": {
      "text/plain": [
       "array([[ 0.7,  0.3,  0.1],\n",
       "       [ 0.5,  0.5,  0.1],\n",
       "       [ 0.5,  0.3,  0.1],\n",
       "       [ 0.6,  0.5,  0.1],\n",
       "       [ 0.4,  0.5,  0. ]])"
      ]
     },
     "execution_count": 90,
     "metadata": {},
     "output_type": "execute_result"
    }
   ],
   "source": [
    "num_coins = 1000\n",
    "num_flips = 10\n",
    "results = []\n",
    "for n in range(100000):\n",
    "    runs = []\n",
    "    for c in range(num_coins):\n",
    "        flips = np.random.random(size=num_flips)\n",
    "        heads = (flips >= 0.5).sum() / num_flips\n",
    "        runs.append(heads)\n",
    "    v1 = runs[0]\n",
    "    vrand = runs[np.random.randint(0, num_coins-1)]\n",
    "    vmin = np.min(runs)\n",
    "    results.append([v1, vrand, vmin])\n",
    "results = np.array(results)\n",
    "print(np.average(results[:,2]))\n",
    "results[:5]"
   ]
  },
  {
   "cell_type": "code",
   "execution_count": 124,
   "metadata": {
    "collapsed": false
   },
   "outputs": [
    {
     "data": {
      "image/png": "[encoded data removed]",
      "text/plain": [
       "<matplotlib.figure.Figure at 0x109a53e80>"
      ]
     },
     "metadata": {},
     "output_type": "display_data"
    }
   ],
   "source": [
    "fig = plt.figure()\n",
    "ax1 = fig.add_subplot(3,1,1)\n",
    "v1_fr = pd.DataFrame(results[:,0], columns=['v1'])\n",
    "v1_fr.hist(ax=ax1, bins=50)\n",
    "\n",
    "ax2 = fig.add_subplot(3,1,2)\n",
    "vrand_fr = pd.DataFrame(results[:,1], columns=['vrand'])\n",
    "vrand_fr.hist(ax=ax2, bins=50)\n",
    "\n",
    "ax3 = fig.add_subplot(3,1,3)\n",
    "vmin_fr = pd.DataFrame(results[:,2], columns=['vmin'])\n",
    "vmin_fr.hist(ax=ax3, bins=50)\n",
    "\n",
    "None"
   ]
  },
  {
   "cell_type": "markdown",
   "metadata": {},
   "source": [
    "# Linear Regression (Q.5,6,7)"
   ]
  },
  {
   "cell_type": "code",
   "execution_count": 191,
   "metadata": {
    "collapsed": true
   },
   "outputs": [],
   "source": [
    "def genX(n):\n",
    "    x = (np.random.rand(n,2) - 0.5) * 2\n",
    "    x = np.append(np.ones((n,1)), x, 1)\n",
    "    return x"
   ]
  },
  {
   "cell_type": "code",
   "execution_count": 326,
   "metadata": {
    "collapsed": false
   },
   "outputs": [
    {
     "name": "stdout",
     "output_type": "stream",
     "text": [
      "E_in 0.03978\n"
     ]
    }
   ],
   "source": [
    "N = 100\n",
    "eins = []\n",
    "for _ in range(1000):\n",
    "    tps = (np.random.rand(2,2) - 0.5) * 2\n",
    "    w2 = 1\n",
    "    w1 = (tps[1,1] - tps[0,1])/(tps[0,0] - tps[1,0])\n",
    "    w0 = -(w1*tps[0,0] + tps[0,1])\n",
    "    W = np.array([w0,w1,w2])\n",
    "    #print('W', W)\n",
    "\n",
    "    X = genX(N)\n",
    "    #print('X', X[:5], '...')\n",
    "    F = (X * W).sum(axis=1)\n",
    "    #print('F', F[:5], '...')\n",
    "\n",
    "    Y = np.sign(F)\n",
    "    #print('Y', Y)\n",
    "\n",
    "    Xm = np.matrix(X)\n",
    "    w_lin = np.array(Xm.T.dot(Xm).I.dot(Xm.T).dot(Y).flat)\n",
    "    #print('w_lin', w_lin)\n",
    "\n",
    "    g = np.sign((X * w_lin).sum(axis=1))\n",
    "    ein = g[g!=Y].size / N\n",
    "    eins.append(ein)\n",
    "E_in = np.average(eins)\n",
    "print('E_in', E_in)"
   ]
  },
  {
   "cell_type": "code",
   "execution_count": 358,
   "metadata": {
    "collapsed": false
   },
   "outputs": [
    {
     "data": {
      "text/plain": [
       "0.05306300000000002"
      ]
     },
     "execution_count": 358,
     "metadata": {},
     "output_type": "execute_result"
    }
   ],
   "source": [
    "M = 1000\n",
    "eouts = []\n",
    "for _ in range(1000):\n",
    "    X_out = genX(M)\n",
    "    g_out = np.sign((X_out * w_lin).sum(axis=1))\n",
    "    f_out = np.sign((X_out * W).sum(axis=1))\n",
    "    eout = g_out[g_out != f_out].size / M\n",
    "    eouts.append(eout)\n",
    "E_out = np.average(eouts)\n",
    "E_out"
   ]
  },
  {
   "cell_type": "code",
   "execution_count": 360,
   "metadata": {
    "collapsed": false,
    "scrolled": true
   },
   "outputs": [
    {
     "data": {
      "image/png": "[encoded data removed]",
      "text/plain": [
       "<matplotlib.figure.Figure at 0x10a5e8668>"
      ]
     },
     "metadata": {},
     "output_type": "display_data"
    }
   ],
   "source": [
    "fig = plt.figure()\n",
    "ax1 = fig.add_subplot(2,1,1)\n",
    "ax1.plot(tps[:,0], tps[:,1], 'k-')\n",
    "pylab.xlim([0,1])\n",
    "pylab.ylim([0,1])\n",
    "\n",
    "ax2 = fig.add_subplot(2,1,2)\n",
    "ax2.plot([0,1], [-w0,-w0-w1])\n",
    "pylab.xlim([0,1])\n",
    "pylab.ylim([0,1])\n",
    "None"
   ]
  },
  {
   "cell_type": "code",
   "execution_count": 363,
   "metadata": {
    "collapsed": false
   },
   "outputs": [
    {
     "data": {
      "text/plain": [
       "array([-0.52804452, -0.42143473,  1.15968353])"
      ]
     },
     "execution_count": 363,
     "metadata": {},
     "output_type": "execute_result"
    }
   ],
   "source": [
    "w_lin"
   ]
  },
  {
   "cell_type": "code",
   "execution_count": 364,
   "metadata": {
    "collapsed": false
   },
   "outputs": [
    {
     "data": {
      "text/plain": [
       "array([-0.56182371, -0.32026918,  1.        ])"
      ]
     },
     "execution_count": 364,
     "metadata": {},
     "output_type": "execute_result"
    }
   ],
   "source": [
    "W"
   ]
  },
  {
   "cell_type": "code",
   "execution_count": 404,
   "metadata": {
    "collapsed": false
   },
   "outputs": [
    {
     "data": {
      "text/plain": [
       "1.3200000000000001"
      ]
     },
     "execution_count": 404,
     "metadata": {},
     "output_type": "execute_result"
    }
   ],
   "source": [
    "wg = w_lin\n",
    "runs = []\n",
    "for _ in range(1000):\n",
    "    for n in range(999):\n",
    "        X = genX(10)\n",
    "        #print('X', X)\n",
    "        f = np.sign((X * W).sum(axis=1))\n",
    "        g = np.sign((X * wg).sum(axis=1))\n",
    "        matches = g == f\n",
    "        if matches.min():\n",
    "            runs.append(n + 1)\n",
    "            break\n",
    "        else:\n",
    "            i = matches.argmin()\n",
    "            wg = X[i] * f[i] + wg\n",
    "np.average(runs)"
   ]
  },
  {
   "cell_type": "markdown",
   "metadata": {},
   "source": [
    "# Nonlinear Transformation"
   ]
  },
  {
   "cell_type": "code",
   "execution_count": 462,
   "metadata": {
    "collapsed": false
   },
   "outputs": [
    {
     "data": {
      "text/plain": [
       "0.51269600000000004"
      ]
     },
     "execution_count": 462,
     "metadata": {},
     "output_type": "execute_result"
    }
   ],
   "source": [
    "N = 1000\n",
    "gs = []\n",
    "for _ in range(1000):\n",
    "    X = genX(N)\n",
    "    F = np.sign((np.square(X) + [-1.6,0,0]).sum(axis=1))\n",
    "    Y = np.sign((np.square(X) + [-1.6,0,0]).sum(axis=1))\n",
    "    for _ in range(int(N/10)):\n",
    "        i = np.random.randint(0, high=N)\n",
    "        Y[i] = -Y[i]\n",
    "    w_lin = np.linalg.inv(X.T.dot(X)).dot(X.T).dot(Y)\n",
    "    g = np.sign((X * w_lin).sum(axis=1))\n",
    "    gs.append(g[g!=F].size / N)\n",
    "np.average(gs)"
   ]
  },
  {
   "cell_type": "code",
   "execution_count": 498,
   "metadata": {
    "collapsed": false
   },
   "outputs": [
    {
     "data": {
      "text/plain": [
       "array([ 100.,    0.,    0.,    0.,    0.])"
      ]
     },
     "execution_count": 498,
     "metadata": {},
     "output_type": "execute_result"
    }
   ],
   "source": [
    "N = 1000\n",
    "trans = lambda x: [1, x[1], x[2], x[1]*x[2], x[1]*x[1], x[2]*x[2]]\n",
    "options = np.array([\n",
    "    [-1, -0.05, 0.08, 0.13, 1.5, 1.5],    #a\n",
    "    [-1, -0.05, 0.08, 0.13, 1.5, 15],     #b\n",
    "    [-1, -0.05, 0.08, 0.13, 15, 1.5],     #c\n",
    "    [-1, -1.5, 0.08, 0.13, 0.05, 0.05],   #d\n",
    "    [-1, -0.05, 0.08, 1.5, 0.15, 0.15]])  #e\n",
    "\n",
    "matches = np.zeros(options.shape[0])\n",
    "for _ in range(100):\n",
    "    X = genX(N)\n",
    "    #print('X', X[:5], '...')\n",
    "    F = np.sign((np.square(X) + [-1.6,0,0]).sum(axis=1)) # target function\n",
    "    Y = np.sign((np.square(X) + [-1.6,0,0]).sum(axis=1)) # results with noise\n",
    "    for _ in range(int(N/10)):\n",
    "        i = np.random.randint(0, high=N)\n",
    "        Y[i] = -Y[i]\n",
    "\n",
    "    Z = np.apply_along_axis(trans, 1, X)\n",
    "    #print('Z', Z[:5], '...')\n",
    "    w_lin = np.linalg.inv(Z.T.dot(Z)).dot(Z.T).dot(Y)\n",
    "    #print('w_lin', w_lin)\n",
    "    gw = np.sign((Z * w_lin).sum(axis=1))\n",
    "    disagrees = []\n",
    "    for opt in options:\n",
    "        gopt = np.sign((Z * opt).sum(axis=1))\n",
    "        disagrees.append(gw[gw!=gopt].size)\n",
    "    i = np.argmin(disagrees)\n",
    "    matches[i] = matches[i] + 1\n",
    "matches"
   ]
  },
  {
   "cell_type": "code",
   "execution_count": 500,
   "metadata": {
    "collapsed": false
   },
   "outputs": [
    {
     "data": {
      "text/plain": [
       "0.116962"
      ]
     },
     "execution_count": 500,
     "metadata": {},
     "output_type": "execute_result"
    }
   ],
   "source": [
    "eouts = []\n",
    "for _ in range(1000):\n",
    "    X = genX(N)\n",
    "    XOUT = genX(N)\n",
    "    #F = np.sign((np.square(X) + [-1.6,0,0]).sum(axis=1)) # target function\n",
    "    Y = np.sign((np.square(X) + [-1.6,0,0]).sum(axis=1)) # results with noise\n",
    "    #FOUT = np.sign((np.square(XOUT) + [-1.6,0,0]).sum(axis=1))\n",
    "    YOUT = np.sign((np.square(XOUT) + [-1.6,0,0]).sum(axis=1))\n",
    "    for _ in range(int(N/10)):\n",
    "        i = np.random.randint(0, high=N)\n",
    "        Y[i] = -Y[i]\n",
    "        iout = np.random.randint(0, high=N)\n",
    "        YOUT[iout] = -YOUT[iout]\n",
    "\n",
    "    Z = np.apply_along_axis(trans, 1, X)\n",
    "    w_lin = np.linalg.inv(Z.T.dot(Z)).dot(Z.T).dot(Y)\n",
    "    ZOUT = np.apply_along_axis(trans, 1, XOUT)\n",
    "    gout = np.sign((ZOUT * w_lin).sum(axis=1))\n",
    "    eouts.append(gout[gout!=YOUT].size / N)\n",
    "np.average(eouts)"
   ]
  }
 ],
 "metadata": {
  "kernelspec": {
   "display_name": "Python 3",
   "language": "python",
   "name": "python3"
  },
  "language_info": {
   "codemirror_mode": {
    "name": "ipython",
    "version": 3
   },
   "file_extension": ".py",
   "mimetype": "text/x-python",
   "name": "python",
   "nbconvert_exporter": "python",
   "pygments_lexer": "ipython3",
   "version": "3.6.0"
  }
 },
 "nbformat": 4,
 "nbformat_minor": 2
}
