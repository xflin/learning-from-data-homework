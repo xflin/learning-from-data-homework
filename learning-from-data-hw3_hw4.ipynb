{
 "cells": [
  {
   "cell_type": "code",
   "execution_count": 80,
   "metadata": {
    "collapsed": true
   },
   "outputs": [],
   "source": [
    "%matplotlib inline\n",
    "import math\n",
    "import numpy as np\n",
    "import pandas as pd\n",
    "import matplotlib.pyplot as plt\n",
    "from matplotlib import pylab, mlab, pyplot\n",
    "from matplotlib.lines import Line2D \n",
    "from pandas import DataFrame, Series\n",
    "from IPython.display import display\n",
    "from IPython.core.pylabtools import figsize, getfigs\n",
    "import requests\n",
    "import re\n",
    "import json\n",
    "from scipy.special import comb\n",
    "import random"
   ]
  },
  {
   "cell_type": "markdown",
   "metadata": {},
   "source": [
    "# HW3"
   ]
  },
  {
   "cell_type": "code",
   "execution_count": 4,
   "metadata": {
    "collapsed": false
   },
   "outputs": [],
   "source": [
    "def hoeffding(e,n,m):\n",
    "    return 2 * m / pow(math.e, 2*n*e*e)"
   ]
  },
  {
   "cell_type": "code",
   "execution_count": 8,
   "metadata": {
    "collapsed": false
   },
   "outputs": [
    {
     "data": {
      "text/plain": [
       "(0.16416999724779763,\n",
       " 0.013475893998170937,\n",
       " 0.0011061687402956677,\n",
       " 9.079985952496976e-05)"
      ]
     },
     "execution_count": 8,
     "metadata": {},
     "output_type": "execute_result"
    }
   ],
   "source": [
    "hoeffding(0.05,500,1), hoeffding(0.05,1000,1), hoeffding(0.05,1500,1), hoeffding(0.05,2000,1)"
   ]
  },
  {
   "cell_type": "code",
   "execution_count": 9,
   "metadata": {
    "collapsed": false
   },
   "outputs": [
    {
     "data": {
      "text/plain": [
       "(1.6416999724779762,\n",
       " 0.13475893998170937,\n",
       " 0.011061687402956676,\n",
       " 0.0009079985952496975)"
      ]
     },
     "execution_count": 9,
     "metadata": {},
     "output_type": "execute_result"
    }
   ],
   "source": [
    "hoeffding(0.05,500,10), hoeffding(0.05,1000,10), hoeffding(0.05,1500,10), hoeffding(0.05,2000,10)"
   ]
  },
  {
   "cell_type": "code",
   "execution_count": 10,
   "metadata": {
    "collapsed": false
   },
   "outputs": [
    {
     "data": {
      "text/plain": [
       "(16.41699972477976,\n",
       " 1.3475893998170938,\n",
       " 0.11061687402956676,\n",
       " 0.009079985952496976)"
      ]
     },
     "execution_count": 10,
     "metadata": {},
     "output_type": "execute_result"
    }
   ],
   "source": [
    "hoeffding(0.05,500,100), hoeffding(0.05,1000,100), hoeffding(0.05,1500,100), hoeffding(0.05,2000,100)"
   ]
  },
  {
   "cell_type": "markdown",
   "metadata": {},
   "source": [
    "# HW4"
   ]
  },
  {
   "cell_type": "markdown",
   "metadata": {},
   "source": [
    "## 1."
   ]
  },
  {
   "cell_type": "code",
   "execution_count": 5,
   "metadata": {
    "collapsed": false
   },
   "outputs": [],
   "source": [
    "def vc_bound(m, d_vc, δ):\n",
    "    \"\"\"\n",
    "    https://mostafa-samir.github.io/ml-theory-pt2/\n",
    "      m number of data points\n",
    "      VC dimention of d_vc\n",
    "      with a confidence of 1−δ\n",
    "    \"\"\"\n",
    "    return math.sqrt((8*d_vc*(math.log(2*m/d_vc)+1) + 8*math.log(4/δ)) / m)"
   ]
  },
  {
   "cell_type": "code",
   "execution_count": 16,
   "metadata": {
    "collapsed": false
   },
   "outputs": [
    {
     "name": "stdout",
     "output_type": "stream",
     "text": [
      "400000 0.05045390882205938\n",
      "420000 0.04933225495853472\n",
      "440000 0.04828569288747159\n",
      "460000 0.047306119687761265\n",
      "480000 0.0463866110961582\n"
     ]
    }
   ],
   "source": [
    "for m in range(400000, 500000, 20000):\n",
    "    print(m, vc_bound(m, 10, 0.05))"
   ]
  },
  {
   "cell_type": "code",
   "execution_count": 163,
   "metadata": {
    "collapsed": false
   },
   "outputs": [
    {
     "name": "stdout",
     "output_type": "stream",
     "text": [
      "400000 221896.07655418385\n",
      "420000 697.7536261453016\n",
      "440000 2.144842719960257\n",
      "460000 0.006458125661103977\n",
      "480000 1.908095187732375e-05\n"
     ]
    }
   ],
   "source": [
    "# use homework's rough bound\n",
    "p = lambda m: 4*((2*m)**10)*(math.e ** -(m*0.05*0.05/8))\n",
    "for m in range(400000, 500000, 20000):\n",
    "    print(m, p(m))"
   ]
  },
  {
   "cell_type": "markdown",
   "metadata": {},
   "source": [
    "## 2."
   ]
  },
  {
   "cell_type": "code",
   "execution_count": 62,
   "metadata": {
    "collapsed": true
   },
   "outputs": [],
   "source": [
    "d_vc = 50\n",
    "m_h = lambda m: (m * math.e / d_vc) ** d_vc"
   ]
  },
  {
   "cell_type": "code",
   "execution_count": 63,
   "metadata": {
    "collapsed": true
   },
   "outputs": [],
   "source": [
    "N = 10000\n",
    "δ = 0.05"
   ]
  },
  {
   "cell_type": "code",
   "execution_count": 64,
   "metadata": {
    "collapsed": false
   },
   "outputs": [
    {
     "data": {
      "text/plain": [
       "0.5321317536024874"
      ]
     },
     "execution_count": 64,
     "metadata": {},
     "output_type": "execute_result"
    }
   ],
   "source": [
    "math.sqrt(math.log(4 * m_h(2*N) / δ) * 8 / N)"
   ]
  },
  {
   "cell_type": "code",
   "execution_count": 22,
   "metadata": {
    "collapsed": false
   },
   "outputs": [
    {
     "data": {
      "text/plain": [
       "0.2794575796846628"
      ]
     },
     "execution_count": 22,
     "metadata": {},
     "output_type": "execute_result"
    }
   ],
   "source": [
    "math.sqrt(2*math.log(2*N*m_h(N))/N) + math.sqrt(2*math.log(1/δ)/N) + 1/N"
   ]
  },
  {
   "cell_type": "code",
   "execution_count": 28,
   "metadata": {
    "collapsed": false
   },
   "outputs": [
    {
     "data": {
      "text/plain": [
       "0.18851013741923303"
      ]
     },
     "execution_count": 28,
     "metadata": {},
     "output_type": "execute_result"
    }
   ],
   "source": [
    "math.sqrt((math.log(6*m_h(2*N)/δ)+1)/N)"
   ]
  },
  {
   "cell_type": "code",
   "execution_count": 33,
   "metadata": {
    "collapsed": false
   },
   "outputs": [
    {
     "data": {
      "text/plain": [
       "0.19784020238071998"
      ]
     },
     "execution_count": 33,
     "metadata": {},
     "output_type": "execute_result"
    }
   ],
   "source": [
    "math.sqrt((4*0.5*(1+.5) + math.log(4/δ) + d_vc*math.log(N*N*math.e/d_vc))/(2*N))"
   ]
  },
  {
   "cell_type": "markdown",
   "metadata": {},
   "source": [
    "## 3."
   ]
  },
  {
   "cell_type": "code",
   "execution_count": 56,
   "metadata": {
    "collapsed": true
   },
   "outputs": [],
   "source": [
    "N3 = 5\n",
    "ΔH = lambda m: sum([comb(m,i) for i in range(0,d_vc)])"
   ]
  },
  {
   "cell_type": "code",
   "execution_count": 65,
   "metadata": {
    "collapsed": false
   },
   "outputs": [
    {
     "data": {
      "text/plain": [
       "4.254597220000659"
      ]
     },
     "execution_count": 65,
     "metadata": {},
     "output_type": "execute_result"
    }
   ],
   "source": [
    "math.sqrt(math.log(4 * ΔH(2*N3) / δ) * 8 / N3)"
   ]
  },
  {
   "cell_type": "code",
   "execution_count": 66,
   "metadata": {
    "collapsed": false
   },
   "outputs": [
    {
     "data": {
      "text/plain": [
       "2.813654929686762"
      ]
     },
     "execution_count": 66,
     "metadata": {},
     "output_type": "execute_result"
    }
   ],
   "source": [
    "math.sqrt(2*math.log(2*N3*ΔH(N3))/N3) + math.sqrt(2*math.log(1/δ)/N3) + 1/N3"
   ]
  },
  {
   "cell_type": "code",
   "execution_count": 67,
   "metadata": {
    "collapsed": false
   },
   "outputs": [
    {
     "data": {
      "text/plain": [
       "1.594927180054406"
      ]
     },
     "execution_count": 67,
     "metadata": {},
     "output_type": "execute_result"
    }
   ],
   "source": [
    "math.sqrt((math.log(6*ΔH(2*N3)/δ)+1)/N3)"
   ]
  },
  {
   "cell_type": "code",
   "execution_count": 68,
   "metadata": {
    "collapsed": false
   },
   "outputs": [
    {
     "data": {
      "text/plain": [
       "1.5074703183372007"
      ]
     },
     "execution_count": 68,
     "metadata": {},
     "output_type": "execute_result"
    }
   ],
   "source": [
    "math.sqrt((4*0.5*(1+.5) + math.log(4/δ) + d_vc*math.log(N3*N3*math.e/d_vc))/(2*N3))"
   ]
  },
  {
   "cell_type": "markdown",
   "metadata": {},
   "source": [
    "## Bias and Variance (https://mostafa-samir.github.io/ml-theory-pt3/)"
   ]
  },
  {
   "cell_type": "code",
   "execution_count": 103,
   "metadata": {
    "collapsed": true
   },
   "outputs": [],
   "source": [
    "gen_pairs = lambda n: 2 * np.random.random_sample((n,2)) - 1\n",
    "gen_x = lambda n: 2 * np.random.random_sample(n) - 1\n",
    "f = lambda x: math.sin(math.pi * x)\n",
    "def a(x):\n",
    "    return (x[0]*f(x[0]) + x[1]*f(x[1]))/(x[0]*x[0] + x[1]*x[1])"
   ]
  },
  {
   "cell_type": "code",
   "execution_count": 141,
   "metadata": {
    "collapsed": false
   },
   "outputs": [
    {
     "data": {
      "text/plain": [
       "1.4260244922612386"
      ]
     },
     "execution_count": 141,
     "metadata": {},
     "output_type": "execute_result"
    }
   ],
   "source": [
    "x_pairs = gen_pairs(100000)\n",
    "a_bar = np.average(np.apply_along_axis(a, 1, x_pairs))\n",
    "a_bar"
   ]
  },
  {
   "cell_type": "code",
   "execution_count": 288,
   "metadata": {
    "collapsed": false
   },
   "outputs": [
    {
     "data": {
      "text/plain": [
       "0.11762704968446221"
      ]
     },
     "execution_count": 288,
     "metadata": {},
     "output_type": "execute_result"
    }
   ],
   "source": [
    "bias = []\n",
    "for _ in range(1000):\n",
    "    x_pair = gen_pairs(1)\n",
    "    #print(x_pair)\n",
    "    a_one_pair = np.average(np.apply_along_axis(a, 1, x_pair))\n",
    "    #print(a_one_pair)\n",
    "    x_pair = x_pair.flatten()\n",
    "    b = (np.abs(a_one_pair*x_pair[0]-f(x_pair[0])) + np.abs(a_one_pair*x_pair[1]-f(x_pair[1])))/2\n",
    "    bias.append(b)\n",
    "np.average(b)"
   ]
  },
  {
   "cell_type": "code",
   "execution_count": 147,
   "metadata": {
    "collapsed": false
   },
   "outputs": [
    {
     "data": {
      "text/plain": [
       "0.00121977899666468"
      ]
     },
     "execution_count": 147,
     "metadata": {},
     "output_type": "execute_result"
    }
   ],
   "source": [
    "e = lambda x: a_bar * x - f(x)\n",
    "e = np.vectorize(e)\n",
    "#np.average(e(gen_x(100000)))\n",
    "np.average(e(x_pairs.flatten()))"
   ]
  },
  {
   "cell_type": "code",
   "execution_count": 153,
   "metadata": {
    "collapsed": false
   },
   "outputs": [
    {
     "data": {
      "text/plain": [
       "0.20225986182880995"
      ]
     },
     "execution_count": 153,
     "metadata": {},
     "output_type": "execute_result"
    }
   ],
   "source": [
    "variance = lambda xp: (a(xp)*xp[0] - a_bar*xp[0])**2 + (a(xp)*xp[1] - a_bar*xp[1])**2\n",
    "np.sum(np.apply_along_axis(variance, 1, x_pairs)) / x_pairs.size"
   ]
  },
  {
   "cell_type": "code",
   "execution_count": 150,
   "metadata": {
    "collapsed": false
   },
   "outputs": [
    {
     "data": {
      "text/plain": [
       "200000"
      ]
     },
     "execution_count": 150,
     "metadata": {},
     "output_type": "execute_result"
    }
   ],
   "source": [
    "x_pairs.size"
   ]
  }
 ],
 "metadata": {
  "kernelspec": {
   "display_name": "Python 3",
   "language": "python",
   "name": "python3"
  },
  "language_info": {
   "codemirror_mode": {
    "name": "ipython",
    "version": 3
   },
   "file_extension": ".py",
   "mimetype": "text/x-python",
   "name": "python",
   "nbconvert_exporter": "python",
   "pygments_lexer": "ipython3",
   "version": "3.6.0"
  }
 },
 "nbformat": 4,
 "nbformat_minor": 2
}
