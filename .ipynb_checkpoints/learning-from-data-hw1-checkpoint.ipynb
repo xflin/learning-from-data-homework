{
 "cells": [
  {
   "cell_type": "code",
   "execution_count": 1,
   "metadata": {
    "collapsed": true
   },
   "outputs": [],
   "source": [
    "%matplotlib inline"
   ]
  },
  {
   "cell_type": "code",
   "execution_count": 2,
   "metadata": {
    "collapsed": true
   },
   "outputs": [],
   "source": [
    "import numpy as np\n",
    "import pandas as pd\n",
    "import matplotlib.pyplot as plt\n",
    "from matplotlib import pylab, mlab, pyplot\n",
    "from matplotlib.lines import Line2D \n",
    "from pandas import DataFrame, Series\n",
    "from IPython.display import display\n",
    "from IPython.core.pylabtools import figsize, getfigs\n",
    "import requests\n",
    "import re\n",
    "import json"
   ]
  },
  {
   "cell_type": "code",
   "execution_count": 3,
   "metadata": {
    "collapsed": false
   },
   "outputs": [],
   "source": [
    "def same_sign(a, b):\n",
    "    return (a > 0 and b > 0) or (a < 0 and b < 0)\n",
    "\n",
    "def diff_sign(a, b):\n",
    "    return (a > 0 and b < 0) or (a < 0 and b > 0) or a == 0 or b == 0\n",
    "\n",
    "def sign(a):\n",
    "    if a > 0:\n",
    "        return 1\n",
    "    elif a < 0:\n",
    "        return -1\n",
    "    else:\n",
    "        return 0\n",
    "\n",
    "same_sign = np.vectorize(same_sign)\n",
    "diff_sign = np.vectorize(diff_sign)\n",
    "sign = np.vectorize(sign)\n",
    "\n",
    "def genX(n):\n",
    "    x = (np.random.rand(n,2) - 0.5) * 2\n",
    "    x = np.append(np.ones((n,1)), x, 1)\n",
    "    return x\n",
    "\n",
    "MAX_ITERS_EACH_RUN = 1000000"
   ]
  },
  {
   "cell_type": "code",
   "execution_count": 4,
   "metadata": {
    "collapsed": false
   },
   "outputs": [
    {
     "name": "stdout",
     "output_type": "stream",
     "text": [
      "iters = [80, 19, 28, 64, 202] ...\n",
      "prob_disagrees = [0.007, 0.02, 0.017, 0.004, 0.008] ...\n",
      "Avg iters = 294.302\n",
      "Avg prob_disagrees = 0.013824\n"
     ]
    }
   ],
   "source": [
    "prob_disagrees = []\n",
    "iters = []\n",
    "N = 100\n",
    "M = N * 10\n",
    "for r in range(1000): # 1000 runs\n",
    "    X = genX(N)\n",
    "    #print('X =', X[:5], '...')\n",
    "\n",
    "    XOUT = genX(M)\n",
    "    #print('XOUT =', XOUT[:5], '...')\n",
    "\n",
    "    tps = (np.random.rand(2,2) - 0.5) * 2\n",
    "    w2 = 1\n",
    "    w1 = (tps[1,1] - tps[0,1])/(tps[0,0] - tps[1,0])\n",
    "    w0 = -(w1*tps[0,0] + tps[0,1])\n",
    "    W = np.array([w0,w1,w2])\n",
    "    #print('W =', W)\n",
    "\n",
    "    XF = sign((X * W).sum(axis=1))\n",
    "    #print('XF =', XF[:5], '...')\n",
    "    XOUTF = sign((XOUT * W).sum(axis=1))\n",
    "    #print('XOUTF =', XOUTF[:5], '...')\n",
    "\n",
    "\n",
    "    wg = ((np.random.rand(3) - 0.5) * 2).reshape(1,3)\n",
    "    #print('init wg =', wg)\n",
    "    for n in range(1,MAX_ITERS_EACH_RUN+1):\n",
    "        xg = (X * wg.repeat(N, axis=0)).sum(axis=1)\n",
    "        matches = same_sign(xg, XF)\n",
    "        if matches.min():  # if min value is true\n",
    "            #print('wg =', wg)\n",
    "            #print('done with n =', n)\n",
    "            iters.append(n)\n",
    "            break\n",
    "        else:\n",
    "            i = matches.argmin() # index of the min (false) value\n",
    "            wg = X[i] * XF[i] + wg\n",
    "        if n == MAX_ITERS_EACH_RUN:\n",
    "            raise Exception(\"Reach max iterations for a run!\")\n",
    "\n",
    "    xoutg = sign((XOUT * wg).sum(axis=1))\n",
    "    #print('xoutg=', xoutg[:5], '...')\n",
    "    prob_disagree = 1. * XOUTF[diff_sign(xoutg, XOUTF)].size / XOUTF.size\n",
    "    #print('prob_disagree =', prob_disagree)\n",
    "    prob_disagrees.append(prob_disagree)\n",
    "    \n",
    "print('iters =', iters[:5], '...')\n",
    "print('prob_disagrees =', prob_disagrees[:5], '...')\n",
    "print('Avg iters =', np.average(iters))\n",
    "print('Avg prob_disagrees =', np.average(prob_disagrees))"
   ]
  },
  {
   "cell_type": "code",
   "execution_count": 5,
   "metadata": {
    "collapsed": false
   },
   "outputs": [
    {
     "data": {
      "image/png": "[encoded data removed]",
      "text/plain": [
       "<matplotlib.figure.Figure at 0x1051be080>"
      ]
     },
     "metadata": {},
     "output_type": "display_data"
    }
   ],
   "source": [
    "fig = plt.figure()\n",
    "ax = fig.add_subplot(1,1,1)\n",
    "ax.scatter(X[:,1], X[:,2])\n",
    "ax.plot(tps[:,0], tps[:,1], 'k-')\n",
    "None"
   ]
  }
 ],
 "metadata": {
  "kernelspec": {
   "display_name": "Python 3",
   "language": "python",
   "name": "python3"
  },
  "language_info": {
   "codemirror_mode": {
    "name": "ipython",
    "version": 3
   },
   "file_extension": ".py",
   "mimetype": "text/x-python",
   "name": "python",
   "nbconvert_exporter": "python",
   "pygments_lexer": "ipython3",
   "version": "3.6.0"
  }
 },
 "nbformat": 4,
 "nbformat_minor": 1
}
