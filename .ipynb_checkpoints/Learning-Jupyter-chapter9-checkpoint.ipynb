{
 "cells": [
  {
   "cell_type": "code",
   "execution_count": 1,
   "metadata": {
    "collapsed": false
   },
   "outputs": [
    {
     "name": "stdout",
     "output_type": "stream",
     "text": [
      "\u001b[32m\"Dan is 37\"\u001b[39m\n"
     ]
    },
    {
     "data": {
      "text/plain": [
       "\u001b[36mname\u001b[39m: \u001b[32mString\u001b[39m = \u001b[32m\"Dan\"\u001b[39m\n",
       "\u001b[36mage\u001b[39m: \u001b[32mInt\u001b[39m = \u001b[32m37\u001b[39m"
      ]
     },
     "execution_count": 1,
     "metadata": {},
     "output_type": "execute_result"
    }
   ],
   "source": [
    "val name = \"Dan\"\n",
    "val age = 37\n",
    "show(name + \" is \" + age)"
   ]
  },
  {
   "cell_type": "code",
   "execution_count": 7,
   "metadata": {
    "collapsed": false
   },
   "outputs": [
    {
     "name": "stdout",
     "output_type": "stream",
     "text": [
      "SepalLength, SepalWidth, PetalLength, PetalWidth, Class\n"
     ]
    },
    {
     "data": {
      "text/plain": [
       "\u001b[32mimport \u001b[39m\u001b[36mscala.io.Source\n",
       "// copied file locally https://archive.ics.uci.edu/ml/machine-learning-databases/iris/iris.data\n",
       "\u001b[39m\n",
       "\u001b[36mfilename\u001b[39m: \u001b[32mString\u001b[39m = \u001b[32m\"iris.data\"\u001b[39m\n",
       "\u001b[36marray\u001b[39m: \u001b[32mcollection\u001b[39m.\u001b[32mmutable\u001b[39m.\u001b[32mArrayBuffer\u001b[39m[\u001b[32mFloat\u001b[39m] = \u001b[33mArrayBuffer\u001b[39m(\n",
       "  \u001b[32m5.1F\u001b[39m,\n",
       "  \u001b[32m4.9F\u001b[39m,\n",
       "  \u001b[32m4.7F\u001b[39m,\n",
       "  \u001b[32m4.6F\u001b[39m,\n",
       "  \u001b[32m5.0F\u001b[39m,\n",
       "  \u001b[32m5.4F\u001b[39m,\n",
       "  \u001b[32m4.6F\u001b[39m,\n",
       "  \u001b[32m5.0F\u001b[39m,\n",
       "  \u001b[32m4.4F\u001b[39m,\n",
       "  \u001b[32m4.9F\u001b[39m,\n",
       "  \u001b[32m5.4F\u001b[39m,\n",
       "\u001b[33m...\u001b[39m\n",
       "\u001b[36mcount\u001b[39m: \u001b[32mInt\u001b[39m = \u001b[32m150\u001b[39m\n",
       "\u001b[36mmin\u001b[39m: \u001b[32mDouble\u001b[39m = \u001b[32m4.300000190734863\u001b[39m\n",
       "\u001b[36mmax\u001b[39m: \u001b[32mDouble\u001b[39m = \u001b[32m7.900000095367432\u001b[39m\n",
       "\u001b[36mtotal\u001b[39m: \u001b[32mDouble\u001b[39m = \u001b[32m876.4999990463257\u001b[39m\n",
       "\u001b[36mmean\u001b[39m: \u001b[32mDouble\u001b[39m = \u001b[32m5.843333326975505\u001b[39m"
      ]
     },
     "execution_count": 7,
     "metadata": {},
     "output_type": "execute_result"
    }
   ],
   "source": [
    "import scala.io.Source\n",
    "// copied file locally https://archive.ics.uci.edu/ml/machine-learning-databases/iris/iris.data\n",
    "val filename = \"iris.data\"\n",
    "println(\"SepalLength, SepalWidth, PetalLength, PetalWidth, Class\")\n",
    "val array = scala.collection.mutable.ArrayBuffer.empty[Float]\n",
    "for (line <- Source.fromFile(filename).getLines) {\n",
    "  if (line.trim.length > 0) {\n",
    "    val cols = line.split(\",\").map(_.trim)\n",
    "    var i = cols(0).toFloat\n",
    "    array += i\n",
    "  }\n",
    "}\n",
    "val count = array.length\n",
    "var min:Double = 9999.0\n",
    "var max:Double = 0.0\n",
    "var total:Double = 0.0\n",
    "for (x <- array) {\n",
    "  if (x<min) min = x\n",
    "  if (x>max) max = x\n",
    "  total += x\n",
    "}\n",
    "val mean = total/count"
   ]
  }
 ],
 "metadata": {
  "kernelspec": {
   "display_name": "Scala",
   "language": "scala",
   "name": "scala"
  },
  "language_info": {
   "codemirror_mode": "text/x-scala",
   "file_extension": ".scala",
   "mimetype": "text/x-scala",
   "name": "scala211",
   "nbconvert_exporter": "scala",
   "pygments_lexer": "scala",
   "version": "2.11.8"
  }
 },
 "nbformat": 4,
 "nbformat_minor": 2
}
