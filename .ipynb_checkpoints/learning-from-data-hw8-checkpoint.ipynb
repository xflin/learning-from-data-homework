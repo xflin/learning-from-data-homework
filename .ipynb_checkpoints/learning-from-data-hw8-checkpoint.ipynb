{
 "cells": [
  {
   "cell_type": "code",
   "execution_count": 1,
   "metadata": {
    "collapsed": true
   },
   "outputs": [],
   "source": [
    "%matplotlib inline\n",
    "import numpy as np\n",
    "from sklearn import svm"
   ]
  },
  {
   "cell_type": "markdown",
   "metadata": {},
   "source": [
    "## 1. [d]"
   ]
  },
  {
   "cell_type": "markdown",
   "metadata": {},
   "source": [
    "# Polynomial Kernels"
   ]
  },
  {
   "cell_type": "code",
   "execution_count": 2,
   "metadata": {
    "collapsed": true
   },
   "outputs": [],
   "source": [
    "train = np.loadtxt('features.train')\n",
    "test = np.loadtxt('features.test')"
   ]
  },
  {
   "cell_type": "code",
   "execution_count": 55,
   "metadata": {
    "collapsed": false
   },
   "outputs": [
    {
     "data": {
      "text/plain": [
       "(array([[ 0.3410918 , -4.5289375 ],\n",
       "        [ 0.44413086, -5.4968125 ],\n",
       "        [ 0.23100195, -2.88675   ]]),\n",
       " array([ 6.,  5.,  4.]),\n",
       " array([ 0.,  1.,  2.,  3.,  4.,  5.,  6.,  7.,  8.,  9.]))"
      ]
     },
     "execution_count": 55,
     "metadata": {},
     "output_type": "execute_result"
    }
   ],
   "source": [
    "train[:,1:][:3], train[:,0][:3], np.unique(train[:,0])"
   ]
  },
  {
   "cell_type": "code",
   "execution_count": 61,
   "metadata": {
    "collapsed": false
   },
   "outputs": [
    {
     "data": {
      "text/plain": [
       "array([False, False, False, False, False, False, False, False,  True,\n",
       "       False, False,  True, False], dtype=bool)"
      ]
     },
     "execution_count": 61,
     "metadata": {},
     "output_type": "execute_result"
    }
   ],
   "source": [
    "train[:,0][:13] == 0"
   ]
  },
  {
   "cell_type": "code",
   "execution_count": 29,
   "metadata": {
    "collapsed": false
   },
   "outputs": [
    {
     "data": {
      "text/plain": [
       "SVC(C=0.01, cache_size=200, class_weight=None, coef0=1,\n",
       "  decision_function_shape='ovr', degree=2, gamma=1, kernel='poly',\n",
       "  max_iter=-1, probability=False, random_state=None, shrinking=True,\n",
       "  tol=0.001, verbose=False)"
      ]
     },
     "execution_count": 29,
     "metadata": {},
     "output_type": "execute_result"
    }
   ],
   "source": [
    "clf = svm.SVC(C=0.01, decision_function_shape='ovr', kernel='poly', degree=2, gamma=1, coef0=1)\n",
    "clf.fit(train[:,1:], train[:,0])"
   ]
  },
  {
   "cell_type": "code",
   "execution_count": 63,
   "metadata": {
    "collapsed": false
   },
   "outputs": [
    {
     "data": {
      "text/plain": [
       "SVC(C=0.01, cache_size=200, class_weight=None, coef0=1,\n",
       "  decision_function_shape='ovr', degree=2, gamma=1, kernel='poly',\n",
       "  max_iter=-1, probability=False, random_state=None, shrinking=True,\n",
       "  tol=0.001, verbose=False)"
      ]
     },
     "execution_count": 63,
     "metadata": {},
     "output_type": "execute_result"
    }
   ],
   "source": [
    "clf0 = svm.SVC(C=0.01, decision_function_shape='ovr', kernel='poly', degree=2, gamma=1, coef0=1)\n",
    "clf0.fit(train[:,1:], train[:,0]==0)"
   ]
  },
  {
   "cell_type": "code",
   "execution_count": 68,
   "metadata": {
    "collapsed": false
   },
   "outputs": [
    {
     "data": {
      "text/plain": [
       "0.10588396653408316"
      ]
     },
     "execution_count": 68,
     "metadata": {},
     "output_type": "execute_result"
    }
   ],
   "source": [
    "1 - (clf0.predict(train[:,1:]) == (train[:,0] == 0)).sum() / len(train)"
   ]
  },
  {
   "cell_type": "code",
   "execution_count": 75,
   "metadata": {
    "collapsed": false
   },
   "outputs": [
    {
     "data": {
      "text/plain": [
       "array([1090, 1089], dtype=int32)"
      ]
     },
     "execution_count": 75,
     "metadata": {},
     "output_type": "execute_result"
    }
   ],
   "source": [
    "clf0.n_support_"
   ]
  },
  {
   "cell_type": "code",
   "execution_count": 76,
   "metadata": {
    "collapsed": false
   },
   "outputs": [
    {
     "name": "stdout",
     "output_type": "stream",
     "text": [
      "0 0.105883966534 [1090 1089]\n",
      "2 0.100260595254 [1239  731]\n",
      "4 0.0894253188863 [1204  652]\n",
      "6 0.0910711836511 [1229  664]\n",
      "8 0.0743382252092 [1234  542]\n"
     ]
    }
   ],
   "source": [
    "for o in range(0,9,2):\n",
    "    clf = svm.SVC(C=0.01, decision_function_shape='ovr', kernel='poly', degree=2, gamma=1, coef0=1)\n",
    "    clf.fit(train[:,1:], train[:,0]==o)\n",
    "    e_in = 1 - (clf.predict(train[:,1:]) == (train[:,0] == o)).sum() / len(train)\n",
    "    print(o, e_in, clf.n_support_)"
   ]
  },
  {
   "cell_type": "markdown",
   "metadata": {},
   "source": [
    "## ^^^ 2. [a]"
   ]
  },
  {
   "cell_type": "code",
   "execution_count": 77,
   "metadata": {
    "collapsed": false
   },
   "outputs": [
    {
     "name": "stdout",
     "output_type": "stream",
     "text": [
      "1 0.0144013166918 [193 193]\n",
      "3 0.0902482512687 [1292  658]\n",
      "5 0.0762584007681 [1029  556]\n",
      "7 0.0884652311068 [1059  645]\n",
      "9 0.0883280757098 [1334  644]\n"
     ]
    }
   ],
   "source": [
    "for o in range(1,10,2):\n",
    "    clf = svm.SVC(C=0.01, decision_function_shape='ovr', kernel='poly', degree=2, gamma=1, coef0=1)\n",
    "    clf.fit(train[:,1:], train[:,0]==o)\n",
    "    e_in = 1 - (clf.predict(train[:,1:]) == (train[:,0] == o)).sum() / len(train)\n",
    "    print(o, e_in, clf.n_support_)"
   ]
  },
  {
   "cell_type": "markdown",
   "metadata": {},
   "source": [
    "## ^^^ 3. [a]"
   ]
  },
  {
   "cell_type": "code",
   "execution_count": 160,
   "metadata": {
    "collapsed": false
   },
   "outputs": [
    {
     "data": {
      "text/plain": [
       "1793"
      ]
     },
     "execution_count": 160,
     "metadata": {},
     "output_type": "execute_result"
    }
   ],
   "source": [
    "(1090 + 1089) - (193 + 193)"
   ]
  },
  {
   "cell_type": "markdown",
   "metadata": {},
   "source": [
    "## ^^^ 4. [c]"
   ]
  },
  {
   "cell_type": "code",
   "execution_count": 97,
   "metadata": {
    "collapsed": false
   },
   "outputs": [
    {
     "data": {
      "text/plain": [
       "(array([ 1.,  1.,  1.,  1.,  1.,  1.,  1.]), array([ 5.,  5.]))"
      ]
     },
     "execution_count": 97,
     "metadata": {},
     "output_type": "execute_result"
    }
   ],
   "source": [
    "train[:,0][:40][train[:,0][:40]==1], train[:,0][:40][train[:,0][:40]==5]"
   ]
  },
  {
   "cell_type": "code",
   "execution_count": 3,
   "metadata": {
    "collapsed": false
   },
   "outputs": [
    {
     "data": {
      "text/plain": [
       "(array([[ 0.12304297, -0.707875  ],\n",
       "        [ 0.11385937, -0.931375  ],\n",
       "        [ 0.11537109, -0.386     ]]), array([ 1.,  1.,  1.]))"
      ]
     },
     "execution_count": 3,
     "metadata": {},
     "output_type": "execute_result"
    }
   ],
   "source": [
    "train_x_1_5 = np.concatenate((train[:,1:][train[:,0]==1], train[:,1:][train[:,0]==5]))\n",
    "train_y_1_5 = np.concatenate((train[:,0][train[:,0]==1], train[:,0][train[:,0]==5]))\n",
    "train_x_1_5[:3], train_y_1_5[:3]"
   ]
  },
  {
   "cell_type": "code",
   "execution_count": 4,
   "metadata": {
    "collapsed": false
   },
   "outputs": [
    {
     "data": {
      "text/plain": [
       "(array([[ 0.15993359, -1.742     ],\n",
       "        [ 0.12460938, -0.4744375 ],\n",
       "        [ 0.21911719, -0.9045    ]]), array([ 1.,  1.,  1.]))"
      ]
     },
     "execution_count": 4,
     "metadata": {},
     "output_type": "execute_result"
    }
   ],
   "source": [
    "test_x_1_5 = np.concatenate((test[:,1:][test[:,0]==1], test[:,1:][test[:,0]==5]))\n",
    "test_y_1_5 = np.concatenate((test[:,0][test[:,0]==1], test[:,0][test[:,0]==5]))\n",
    "test_x_1_5[:3], test_y_1_5[:3]"
   ]
  },
  {
   "cell_type": "code",
   "execution_count": 105,
   "metadata": {
    "collapsed": false
   },
   "outputs": [
    {
     "name": "stdout",
     "output_type": "stream",
     "text": [
      "0.001\n",
      "0.01\n",
      "0.1\n",
      "1\n",
      "0.001\n"
     ]
    }
   ],
   "source": [
    "for c in (0.001, 0.01, 0.1, 1):\n",
    "    print(c)\n",
    "for c in (0.001,):\n",
    "    print(c)"
   ]
  },
  {
   "cell_type": "code",
   "execution_count": 116,
   "metadata": {
    "collapsed": false
   },
   "outputs": [
    {
     "name": "stdout",
     "output_type": "stream",
     "text": [
      "C= 0.0001 E_in= 0.00896860986547 #S.Vec= 236 E_out= 0.0165094339623\n",
      "C= 0.001 E_in= 0.00448430493274 #S.Vec= 76 E_out= 0.0165094339623\n",
      "C= 0.01 E_in= 0.00448430493274 #S.Vec= 34 E_out= 0.0188679245283\n",
      "C= 0.1 E_in= 0.00448430493274 #S.Vec= 24 E_out= 0.0188679245283\n",
      "C= 1 E_in= 0.00320307495195 #S.Vec= 24 E_out= 0.0188679245283\n"
     ]
    }
   ],
   "source": [
    "for c in (0.0001,0.001,0.01,0.1,1):\n",
    "    clf = svm.SVC(C=c, decision_function_shape='ovr', kernel='poly', degree=2, gamma=1, coef0=1)\n",
    "    clf.fit(train_x_1_5, train_y_1_5)\n",
    "    e_in = (clf.predict(train_x_1_5) != train_y_1_5).sum() / len(train_y_1_5)\n",
    "    e_out = (clf.predict(test_x_1_5) != test_y_1_5).sum() /len(test_y_1_5)\n",
    "    print('C=', c, 'E_in=', e_in, '#S.Vec=', clf.n_support_.sum(), 'E_out=', e_out)"
   ]
  },
  {
   "cell_type": "markdown",
   "metadata": {},
   "source": [
    "## ^^^ 5. [d]"
   ]
  },
  {
   "cell_type": "code",
   "execution_count": 117,
   "metadata": {
    "collapsed": false
   },
   "outputs": [
    {
     "name": "stdout",
     "output_type": "stream",
     "text": [
      "C= 0.0001 E_in= 0.00448430493274 #S.Vec= 26 E_out= 0.0188679245283\n",
      "C= 0.001 E_in= 0.00448430493274 #S.Vec= 25 E_out= 0.0212264150943\n",
      "C= 0.01 E_in= 0.00384368994234 #S.Vec= 23 E_out= 0.0212264150943\n",
      "C= 0.1 E_in= 0.00320307495195 #S.Vec= 25 E_out= 0.0188679245283\n",
      "C= 1 E_in= 0.00320307495195 #S.Vec= 21 E_out= 0.0212264150943\n"
     ]
    }
   ],
   "source": [
    "for c in (0.0001,0.001,0.01,0.1,1):\n",
    "    clf = svm.SVC(C=c, decision_function_shape='ovr', kernel='poly', degree=5, gamma=1, coef0=1)\n",
    "    clf.fit(train_x_1_5, train_y_1_5)\n",
    "    e_in = (clf.predict(train_x_1_5) != train_y_1_5).sum() / len(train_y_1_5)\n",
    "    e_out = (clf.predict(test_x_1_5) != test_y_1_5).sum() /len(test_y_1_5)\n",
    "    print('C=', c, 'E_in=', e_in, '#S.Vec=', clf.n_support_.sum(), 'E_out=', e_out)"
   ]
  },
  {
   "cell_type": "markdown",
   "metadata": {},
   "source": [
    "## ^^^ 6. [b]"
   ]
  },
  {
   "cell_type": "markdown",
   "metadata": {},
   "source": [
    "# Cross Validation"
   ]
  },
  {
   "cell_type": "code",
   "execution_count": 29,
   "metadata": {
    "collapsed": false
   },
   "outputs": [
    {
     "data": {
      "text/plain": [
       "array([[ 0.19258984, -3.4368125 ],\n",
       "       [ 0.13055078, -0.3968125 ],\n",
       "       [ 0.11992383, -0.611375  ],\n",
       "       [ 0.11573828, -0.4423125 ],\n",
       "       [ 0.33858789, -4.88225   ]])"
      ]
     },
     "execution_count": 29,
     "metadata": {},
     "output_type": "execute_result"
    }
   ],
   "source": [
    "test_x_1_5[ix_order][:5]"
   ]
  },
  {
   "cell_type": "code",
   "execution_count": 77,
   "metadata": {
    "collapsed": false
   },
   "outputs": [
    {
     "data": {
      "text/plain": [
       "(424, array([  0,  43,  86, 129, 172, 214, 256, 298, 340, 382, 424]))"
      ]
     },
     "execution_count": 77,
     "metadata": {},
     "output_type": "execute_result"
    }
   ],
   "source": [
    "n_test = len(test_x_1_5)\n",
    "entries_per_group = int(n_test/10)\n",
    "n_hi_groups = n_test - entries_per_group*10\n",
    "n_per_group = [1+entries_per_group for _ in range(0,n_hi_groups)] + [entries_per_group for _ in range(0,10-n_hi_groups)]\n",
    "group_indices = np.add.accumulate([0]+n_per_group)\n",
    "n_test, group_indices"
   ]
  },
  {
   "cell_type": "code",
   "execution_count": 104,
   "metadata": {
    "collapsed": false
   },
   "outputs": [
    {
     "data": {
      "text/plain": [
       "(array([100,   7,  13, 366, 160]),\n",
       " array([100,   7,  13, 366, 160, 207,  51, 395,  10, 420, 387, 364, 164,\n",
       "         39, 248, 367, 314,  92,  73,  33, 342, 304, 139, 194, 168, 211,\n",
       "        343, 117,  78, 200, 305, 275, 416, 135, 146, 152, 169, 378, 252,\n",
       "        178,  34, 316, 246, 286, 227, 134,  89, 308, 390, 156, 154, 292,\n",
       "        274,  58, 328, 126,  80, 317,  69, 119, 332, 383,  85,   8, 371,\n",
       "         42, 346,  15,  65,   3, 261,  41,   6, 188,  37, 231, 236, 239,\n",
       "        203, 214,  50,   4, 103, 136, 133, 393, 407,  53, 102, 348,  62,\n",
       "        409,  97, 181,  93, 186,   0, 253, 112, 244,  55,  20, 411, 299,\n",
       "         61, 114, 241, 120, 350, 381, 179, 202, 137, 377, 403, 268, 193,\n",
       "        423, 374,  87,  83, 388, 234, 298, 285,  21, 391, 107, 116, 243,\n",
       "         76, 212, 101, 300, 291,  46, 419, 257,  90, 173, 327, 187,  49,\n",
       "        290, 157, 171, 167, 360, 412, 230,  99,  40,  79,  45, 351, 408,\n",
       "        224, 353,  66, 223, 113, 337,  94, 270, 330, 369,  27, 397, 158,\n",
       "        372,  68, 273,  95, 338, 226,  28, 354,  38, 380, 313, 311, 288,\n",
       "        247, 415, 125, 105, 250, 147, 263,   9, 184, 401, 208, 267, 295,\n",
       "        197, 399, 323,  17,  47, 245,  19, 143, 269, 398, 361, 185, 262,\n",
       "         12,  75, 281, 191, 359,  30, 283, 277, 376, 249,  56, 312,  98,\n",
       "         67, 336,  18, 255,  11, 183, 219, 144, 153,  82, 128,  48, 259,\n",
       "        121, 209, 161,  57, 386, 131, 206, 289, 271, 148, 368, 339, 110,\n",
       "        155, 356, 406, 122, 373, 347, 303, 284, 213, 335,  35,  25,  59,\n",
       "        180,  31, 418, 216, 222, 322, 260, 170, 396, 379, 175, 142, 145,\n",
       "        111, 140, 162, 365, 417, 355,  16, 341, 287, 182, 104, 106, 413,\n",
       "        149, 384, 240, 402, 118, 278,  32, 109,  91,  24, 414,  64, 265,\n",
       "        375,  77,  26,   1, 334, 124, 199, 421, 331, 218, 215, 166,  52,\n",
       "        276, 242, 130,  88, 198, 362,  36, 127, 108, 325,   2, 165, 237,\n",
       "         54, 370,  81, 238, 309, 294, 352, 141,  22, 310, 385, 163,  71,\n",
       "        221, 282, 138, 123,  60, 344, 404,  72, 296, 307, 232, 363, 266,\n",
       "         14, 357, 345, 405, 174,  86,  74, 151, 256, 254, 297,  70,  44,\n",
       "         63, 129, 319, 204, 176, 196, 301,  96, 233, 306, 217, 280, 235,\n",
       "        410, 302, 272, 293, 400, 279, 318, 321, 329, 315, 394, 389, 205,\n",
       "        132, 195, 225, 349, 172, 115,  29, 150, 392, 326, 159,   5, 258,\n",
       "        358, 228, 324, 340, 192, 382, 177, 220, 201, 264, 251, 320, 333,\n",
       "        190,  23, 229, 189, 422,  43,  84, 210]))"
      ]
     },
     "execution_count": 104,
     "metadata": {},
     "output_type": "execute_result"
    }
   ],
   "source": [
    "ix_order = np.random.permutation(n_test)\n",
    "np.concatenate((ix_order[:43], ix_order[86:]))[:5], ix_order"
   ]
  },
  {
   "cell_type": "code",
   "execution_count": 90,
   "metadata": {
    "collapsed": false
   },
   "outputs": [
    {
     "data": {
      "text/plain": [
       "0.01"
      ]
     },
     "execution_count": 90,
     "metadata": {},
     "output_type": "execute_result"
    }
   ],
   "source": [
    "ecvs = [5,4,3,3,6]\n",
    "[0.0001,0.001,0.01,0.1,1][np.argmin(ecvs)]"
   ]
  },
  {
   "cell_type": "code",
   "execution_count": 153,
   "metadata": {
    "collapsed": false
   },
   "outputs": [],
   "source": [
    "def mk_grp_indices(n_data, n_grp=10):\n",
    "    '''Make a list of indices of group boundaries. It starts with 0 and contains n_grp+1 entries.'''\n",
    "    entries_per_group = int(n_data/n_grp)\n",
    "    n_hi_groups = n_data - entries_per_group * n_grp\n",
    "    n_per_group = [1+entries_per_group for _ in range(0,n_hi_groups)] + [entries_per_group for _ in range(0,n_grp-n_hi_groups)]\n",
    "    return np.add.accumulate([0]+n_per_group)\n",
    "\n",
    "# ix_order = np.random.permutation(len(x))\n",
    "def run_cv(c, x, y, ix_order):\n",
    "    '''Returns E_cv'''\n",
    "    n_data = len(x)\n",
    "    group_indices = mk_grp_indices(len(x))\n",
    "\n",
    "    ecvs = []\n",
    "    for i in range(10):\n",
    "        t_idx = np.concatenate((ix_order[:group_indices[i]], ix_order[group_indices[i+1]:]))\n",
    "        v_idx = ix_order[group_indices[i]:group_indices[i+1]]\n",
    "        t_x = x[t_idx]\n",
    "        t_y = y[t_idx]\n",
    "        v_x = x[v_idx]\n",
    "        v_y = y[v_idx]\n",
    "    \n",
    "        clf = svm.SVC(C=c, decision_function_shape='ovr', kernel='poly', degree=2, gamma=1, coef0=1)\n",
    "        clf.fit(t_x, t_y)\n",
    "        e_v = (clf.predict(v_x) != v_y).sum() / len(v_y)\n",
    "        ecvs.append(e_v)\n",
    "    return np.average(ecvs)"
   ]
  },
  {
   "cell_type": "code",
   "execution_count": 154,
   "metadata": {
    "collapsed": false
   },
   "outputs": [
    {
     "data": {
      "text/plain": [
       "(array([  0.,  48.,  24.,  16.,  12.]), 0.001, 0.0047791115466274637)"
      ]
     },
     "execution_count": 154,
     "metadata": {},
     "output_type": "execute_result"
    }
   ],
   "source": [
    "Cs = [0.0001,0.001,0.01,0.1,1]\n",
    "\n",
    "c_count = np.zeros(len(Cs))\n",
    "e_cv_sums = np.zeros(len(Cs))\n",
    "for _ in range(100):\n",
    "    ix_order = np.random.permutation(len(train_x_1_5))\n",
    "    ecvs = []\n",
    "    for c in Cs:\n",
    "        e_cv = run_cv(c, train_x_1_5, train_y_1_5, ix_order)\n",
    "        ecvs.append(e_cv)\n",
    "    min_idx = np.argmin(ecvs)\n",
    "    c_count[min_idx] += 1\n",
    "    e_cv_sums = e_cv_sums + ecvs\n",
    "max_idx = np.argmax(c_count)\n",
    "c_count, Cs[max_idx], e_cv_sums[max_idx]/100"
   ]
  },
  {
   "cell_type": "markdown",
   "metadata": {},
   "source": [
    "## ^^^ 7. [b]"
   ]
  },
  {
   "cell_type": "markdown",
   "metadata": {},
   "source": [
    "## ^^^ 8. [c]"
   ]
  },
  {
   "cell_type": "markdown",
   "metadata": {},
   "source": [
    "# RBF Kernel"
   ]
  },
  {
   "cell_type": "code",
   "execution_count": 159,
   "metadata": {
    "collapsed": false
   },
   "outputs": [
    {
     "name": "stdout",
     "output_type": "stream",
     "text": [
      "C= 0.01 E_in= 0.00384368994234 #S.Vec= 403 E_out= 0.0235849056604\n",
      "C= 1 E_in= 0.00448430493274 #S.Vec= 31 E_out= 0.0212264150943\n",
      "C= 100 E_in= 0.00320307495195 #S.Vec= 22 E_out= 0.0188679245283\n",
      "C= 10000.0 E_in= 0.00256245996156 #S.Vec= 20 E_out= 0.0235849056604\n",
      "C= 1000000.0 E_in= 0.000640614990391 #S.Vec= 17 E_out= 0.0235849056604\n",
      "C= 1000000.0 has min E_in 0.000640614990391\n",
      "C= 100 has min E_out 0.0188679245283\n"
     ]
    }
   ],
   "source": [
    "rbf_Cs = [0.01, 1, 100, 1e4, 1e6]\n",
    "eins = []\n",
    "eouts = []\n",
    "for c in rbf_Cs:\n",
    "    clf = svm.SVC(C=c, decision_function_shape='ovr', kernel='rbf', gamma=1)\n",
    "    clf.fit(train_x_1_5, train_y_1_5)\n",
    "    e_in = (clf.predict(train_x_1_5) != train_y_1_5).sum() / len(train_y_1_5)\n",
    "    e_out = (clf.predict(test_x_1_5) != test_y_1_5).sum() /len(test_y_1_5)\n",
    "    eins.append(e_in)\n",
    "    eouts.append(e_out)\n",
    "    print('C=', c, 'E_in=', e_in, '#S.Vec=', clf.n_support_.sum(), 'E_out=', e_out)\n",
    "e_in_min_idx = np.argmin(eins)\n",
    "print('C=', rbf_Cs[e_in_min_idx], 'has min E_in', eins[e_in_min_idx])\n",
    "e_out_min_idx = np.argmin(eouts)\n",
    "print('C=', rbf_Cs[e_out_min_idx], 'has min E_out', eouts[e_out_min_idx])"
   ]
  },
  {
   "cell_type": "markdown",
   "metadata": {},
   "source": [
    "## ^^^ 9. [e]"
   ]
  },
  {
   "cell_type": "markdown",
   "metadata": {},
   "source": [
    "## ^^^ 10. [c]"
   ]
  }
 ],
 "metadata": {
  "kernelspec": {
   "display_name": "Python 3",
   "language": "python",
   "name": "python3"
  },
  "language_info": {
   "codemirror_mode": {
    "name": "ipython",
    "version": 3
   },
   "file_extension": ".py",
   "mimetype": "text/x-python",
   "name": "python",
   "nbconvert_exporter": "python",
   "pygments_lexer": "ipython3",
   "version": "3.6.0"
  }
 },
 "nbformat": 4,
 "nbformat_minor": 2
}
