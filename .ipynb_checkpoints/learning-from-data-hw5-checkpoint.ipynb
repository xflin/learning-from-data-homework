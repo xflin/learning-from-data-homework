{
 "cells": [
  {
   "cell_type": "code",
   "execution_count": 52,
   "metadata": {
    "collapsed": true
   },
   "outputs": [],
   "source": [
    "%matplotlib inline\n",
    "from math import e\n",
    "import numpy as np"
   ]
  },
  {
   "cell_type": "code",
   "execution_count": 73,
   "metadata": {
    "collapsed": false
   },
   "outputs": [],
   "source": [
    "E = lambda u,v: (u*(e**v) - 2*v*(e**-u))**2\n",
    "delta_u = lambda u,v: 2*(u*e**v - 2*v*e**-u)*(e**v + 2*v*e**-u)\n",
    "delta_v = lambda u,v: 2*(u*e**v - 2*v*e**-u)*(u*e**v - 2*e**-u)"
   ]
  },
  {
   "cell_type": "code",
   "execution_count": 77,
   "metadata": {
    "collapsed": false
   },
   "outputs": [
    {
     "name": "stdout",
     "output_type": "stream",
     "text": [
      "Iter Count: 10\n",
      "Final n= 10 η= 0.1 y= 1.2086833944220747e-15 u= 0.04473629039778207 v= 0.023958714099141746\n"
     ]
    }
   ],
   "source": [
    "η = 0.1\n",
    "u, v = 1, 1\n",
    "threashold = 10**-14\n",
    "y = E(u,v)\n",
    "for n in range(1,100):\n",
    "    du, dv = delta_u(u,v), delta_v(u,v)\n",
    "    while True:\n",
    "        u1,v1 = u-η*du, v-η*dv\n",
    "        y1 = E(u1,v1)\n",
    "        if y1 > y:\n",
    "            η = η / 2\n",
    "        else:\n",
    "            break\n",
    "    u,v = u1,v1\n",
    "    y = y1\n",
    "    if y < threashold:\n",
    "        print('Iter Count:', n)\n",
    "        break\n",
    "print('Final', 'n=', n, 'η=', η, 'y=', y, 'u=', u, 'v=', v)"
   ]
  },
  {
   "cell_type": "code",
   "execution_count": 83,
   "metadata": {
    "collapsed": false
   },
   "outputs": [
    {
     "data": {
      "text/plain": [
       "[1.365717886924672,\n",
       " 0.66859488577439707,\n",
       " 0.092612323202165295,\n",
       " 0.12783573228217807,\n",
       " 0.00026692186105977918]"
      ]
     },
     "execution_count": 83,
     "metadata": {},
     "output_type": "execute_result"
    }
   ],
   "source": [
    "x = np.array([u,v])\n",
    "[np.linalg.norm(x-p) for p in [[1.,1.], [.713,.045], [.016,.112], [-0.083,.029], [.045,.024]]]"
   ]
  },
  {
   "cell_type": "code",
   "execution_count": 85,
   "metadata": {
    "collapsed": false
   },
   "outputs": [
    {
     "name": "stdout",
     "output_type": "stream",
     "text": [
      "Final u= 6.300844988097586 v= -2.823851992814291 y= 0.14782952252409787\n"
     ]
    }
   ],
   "source": [
    "η = 0.1\n",
    "u, v = 1, 1\n",
    "y = E(u,v)\n",
    "for n in range(1,15):\n",
    "    du = delta_u(u,v)\n",
    "    u = u - η*du\n",
    "    dv = delta_v(u,v)\n",
    "    v = v - η*dv\n",
    "print('Final', 'u=', u, 'v=', v, 'y=', E(u,v))"
   ]
  },
  {
   "cell_type": "markdown",
   "metadata": {},
   "source": [
    "## Logistic Regression"
   ]
  },
  {
   "cell_type": "code",
   "execution_count": 142,
   "metadata": {
    "collapsed": false
   },
   "outputs": [],
   "source": [
    "def gen_x(n):\n",
    "    x = (np.random.rand(n,2) - 0.5) * 2\n",
    "    x = np.append(np.ones((n,1)), x, 1)\n",
    "    return x\n",
    "\n",
    "def gen_target():\n",
    "    tps = (np.random.rand(2,2) - 0.5) * 2\n",
    "    w2 = 1\n",
    "    w1 = (tps[1,1] - tps[0,1])/(tps[0,0] - tps[1,0])\n",
    "    w0 = -(w1*tps[0,0] + tps[0,1])\n",
    "    W = np.array([w0,w1,w2])\n",
    "    return W\n",
    "\n",
    "delta_e = lambda w,x1,y1: -y1*x1/(1 + e**(y1*np.dot(w,x1)))\n",
    "cross_entropy_e = lambda w,x1,y1: math.log(1 + e**(-y1*np.dot(w,x1)))\n",
    "cross_entropy_E = lambda w,x,y: np.average(np.log(1 + np.power(e, -y*x.dot(w))))"
   ]
  },
  {
   "cell_type": "code",
   "execution_count": 173,
   "metadata": {
    "collapsed": false
   },
   "outputs": [
    {
     "data": {
      "text/plain": [
       "(0.10332926720299426, 343.06)"
      ]
     },
     "execution_count": 173,
     "metadata": {},
     "output_type": "execute_result"
    }
   ],
   "source": [
    "η = 0.01\n",
    "N = 100\n",
    "e_outs = []\n",
    "epochs = []\n",
    "for _ in range(100):\n",
    "    tw = gen_target()\n",
    "    x = gen_x(N)\n",
    "    y = np.sign((tw * x).sum(axis=1))\n",
    "    w = np.array([0, 0, 0])\n",
    "    wprev = np.array([10,10,10]) # dummy\n",
    "    epoch = 0\n",
    "    while np.linalg.norm(w - wprev) >= 0.01:\n",
    "        wprev = w\n",
    "        for n in np.random.permutation(N):\n",
    "            w = w - η * delta_e(w, x[n], y[n])\n",
    "        epoch += 1\n",
    "    epochs.append(epoch)\n",
    "    x_out = gen_x(N)\n",
    "    y_out = np.sign((tw * x_out).sum(axis=1))\n",
    "    e_out = cross_entropy_E(w, x_out, y_out)\n",
    "    e_outs.append(e_out)\n",
    "np.average(e_outs), np.average(epochs)"
   ]
  }
 ],
 "metadata": {
  "kernelspec": {
   "display_name": "Python 3",
   "language": "python",
   "name": "python3"
  },
  "language_info": {
   "codemirror_mode": {
    "name": "ipython",
    "version": 3
   },
   "file_extension": ".py",
   "mimetype": "text/x-python",
   "name": "python",
   "nbconvert_exporter": "python",
   "pygments_lexer": "ipython3",
   "version": "3.6.0"
  }
 },
 "nbformat": 4,
 "nbformat_minor": 2
}
