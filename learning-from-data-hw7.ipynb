{
 "cells": [
  {
   "cell_type": "code",
   "execution_count": 1,
   "metadata": {
    "collapsed": true
   },
   "outputs": [],
   "source": [
    "%matplotlib inline\n",
    "from math import e\n",
    "import math\n",
    "import numpy as np\n",
    "from functools import partial\n",
    "import matplotlib.pyplot as plt\n",
    "from scipy.optimize import minimize"
   ]
  },
  {
   "cell_type": "markdown",
   "metadata": {},
   "source": [
    "## Validation"
   ]
  },
  {
   "cell_type": "code",
   "execution_count": 55,
   "metadata": {
    "collapsed": true
   },
   "outputs": [],
   "source": [
    "in_dta = np.loadtxt('in.dta')\n",
    "out_dta = np.loadtxt('out.dta')"
   ]
  },
  {
   "cell_type": "code",
   "execution_count": 56,
   "metadata": {
    "collapsed": false
   },
   "outputs": [
    {
     "data": {
      "text/plain": [
       "(array([[-0.77947021,  0.83822138,  1.        ],\n",
       "        [ 0.15563491,  0.89537743,  1.        ],\n",
       "        [-0.0599077 , -0.71777995,  1.        ]]),\n",
       " array([[-0.10600562, -0.08146703, -1.        ],\n",
       "        [ 0.17792951, -0.34595141, -1.        ],\n",
       "        [ 0.10216153,  0.71825825,  1.        ]]))"
      ]
     },
     "execution_count": 56,
     "metadata": {},
     "output_type": "execute_result"
    }
   ],
   "source": [
    "in_dta[:3], out_dta[:3]"
   ]
  },
  {
   "cell_type": "code",
   "execution_count": 57,
   "metadata": {
    "collapsed": false
   },
   "outputs": [
    {
     "data": {
      "text/plain": [
       "(array([ 1.,  1.,  1.,  1., -1.]), '...')"
      ]
     },
     "execution_count": 57,
     "metadata": {},
     "output_type": "execute_result"
    }
   ],
   "source": [
    "y_in = in_dta[:,2]\n",
    "y_in[:5], '...'"
   ]
  },
  {
   "cell_type": "code",
   "execution_count": 58,
   "metadata": {
    "collapsed": false
   },
   "outputs": [
    {
     "data": {
      "text/plain": [
       "(array([-1., -1.,  1., -1.,  1.]), '...')"
      ]
     },
     "execution_count": 58,
     "metadata": {},
     "output_type": "execute_result"
    }
   ],
   "source": [
    "y_out = out_dta[:,2]\n",
    "y_out[:5], '...'"
   ]
  },
  {
   "cell_type": "code",
   "execution_count": 59,
   "metadata": {
    "collapsed": true
   },
   "outputs": [],
   "source": [
    "lin_reg = lambda x,y: np.linalg.inv(x.T.dot(x)).dot(x.T).dot(y)\n",
    "class_err = lambda r,y: 1 - len(r[r == y]) / len(r)"
   ]
  },
  {
   "cell_type": "code",
   "execution_count": 60,
   "metadata": {
    "collapsed": true
   },
   "outputs": [],
   "source": [
    "trans = lambda k,x: [1, x[0], x[1], x[0]*x[0], x[1]*x[1], x[0]*x[1], np.abs(x[0]-x[1]), np.abs(x[0]+x[1])][:k+1]"
   ]
  },
  {
   "cell_type": "markdown",
   "metadata": {},
   "source": [
    "## 1. Take 25 in.dta for training"
   ]
  },
  {
   "cell_type": "code",
   "execution_count": 61,
   "metadata": {
    "collapsed": false
   },
   "outputs": [
    {
     "name": "stdout",
     "output_type": "stream",
     "text": [
      "k= 3 err_val= 0.30000000000000004\n",
      "k= 4 err_val= 0.5\n",
      "k= 5 err_val= 0.19999999999999996\n",
      "k= 6 err_val= 0.0\n",
      "k= 7 err_val= 0.09999999999999998\n"
     ]
    }
   ],
   "source": [
    "for k in range(3,8):\n",
    "    trans_k = partial(trans, k)\n",
    "    z_in = np.apply_along_axis(trans_k, 1, in_dta)\n",
    "    w_lin = lin_reg(z_in[:25], y_in[:25])\n",
    "    r_val = np.sign(z_in[25:].dot(w_lin))\n",
    "    err_val = class_err(r_val, y_in[25:])\n",
    "    print('k=', k, 'err_val=', err_val)"
   ]
  },
  {
   "cell_type": "markdown",
   "metadata": {},
   "source": [
    "## 2. Evaluate out of sample error using out.dta"
   ]
  },
  {
   "cell_type": "code",
   "execution_count": 62,
   "metadata": {
    "collapsed": false,
    "scrolled": true
   },
   "outputs": [
    {
     "name": "stdout",
     "output_type": "stream",
     "text": [
      "k= 3 err_out= 0.42000000000000004\n",
      "k= 4 err_out= 0.41600000000000004\n",
      "k= 5 err_out= 0.18799999999999994\n",
      "k= 6 err_out= 0.08399999999999996\n",
      "k= 7 err_out= 0.07199999999999995\n"
     ]
    }
   ],
   "source": [
    "for k in range(3,8):\n",
    "    trans_k = partial(trans, k)\n",
    "    z_in = np.apply_along_axis(trans_k, 1, in_dta)\n",
    "    w_lin = lin_reg(z_in[:25], y_in[:25])\n",
    "    \n",
    "    z_out = np.apply_along_axis(trans_k, 1, out_dta)\n",
    "    r_out = np.sign(z_out.dot(w_lin))\n",
    "    err_out = class_err(r_out, y_out)\n",
    "    print('k=', k, 'err_out=', err_out)"
   ]
  },
  {
   "cell_type": "markdown",
   "metadata": {},
   "source": [
    "## 3. Take last 10 for training"
   ]
  },
  {
   "cell_type": "code",
   "execution_count": 63,
   "metadata": {
    "collapsed": false
   },
   "outputs": [
    {
     "name": "stdout",
     "output_type": "stream",
     "text": [
      "k= 3 err_val= 0.28\n",
      "k= 4 err_val= 0.36\n",
      "k= 5 err_val= 0.19999999999999996\n",
      "k= 6 err_val= 0.07999999999999996\n",
      "k= 7 err_val= 0.12\n"
     ]
    }
   ],
   "source": [
    "for k in range(3,8):\n",
    "    trans_k = partial(trans, k)\n",
    "    z_in = np.apply_along_axis(trans_k, 1, in_dta)\n",
    "    w_lin = lin_reg(z_in[25:], y_in[25:])\n",
    "    r_val = np.sign(z_in[:25].dot(w_lin))\n",
    "    err_val = class_err(r_val, y_in[:25])\n",
    "    print('k=', k, 'err_val=', err_val)"
   ]
  },
  {
   "cell_type": "code",
   "execution_count": 64,
   "metadata": {
    "collapsed": false
   },
   "outputs": [
    {
     "name": "stdout",
     "output_type": "stream",
     "text": [
      "k= 3 err_out= 0.396\n",
      "k= 4 err_out= 0.388\n",
      "k= 5 err_out= 0.28400000000000003\n",
      "k= 6 err_out= 0.19199999999999995\n",
      "k= 7 err_out= 0.19599999999999995\n"
     ]
    }
   ],
   "source": [
    "for k in range(3,8):\n",
    "    trans_k = partial(trans, k)\n",
    "    z_in = np.apply_along_axis(trans_k, 1, in_dta)\n",
    "    w_lin = lin_reg(z_in[25:], y_in[25:])\n",
    "    \n",
    "    z_out = np.apply_along_axis(trans_k, 1, out_dta)\n",
    "    r_out = np.sign(z_out.dot(w_lin))\n",
    "    err_out = class_err(r_out, y_out)\n",
    "    print('k=', k, 'err_out=', err_out)"
   ]
  },
  {
   "cell_type": "code",
   "execution_count": 65,
   "metadata": {
    "collapsed": false
   },
   "outputs": [
    {
     "data": {
      "text/plain": [
       "('a:',\n",
       " 0.020000000000000046,\n",
       " 'b:',\n",
       " 0.15620499351813313,\n",
       " 'c:',\n",
       " 0.24166091947189147,\n",
       " 'd:',\n",
       " 0.23323807579381206,\n",
       " 'e:',\n",
       " 0.37202150475476553)"
      ]
     },
     "execution_count": 65,
     "metadata": {},
     "output_type": "execute_result"
    }
   ],
   "source": [
    "ot = np.array([0.0, 0.07999999999999996]) # first and third problems' results\n",
    "a = np.linalg.norm(ot - [0.0, 0.1])\n",
    "b = np.linalg.norm(ot - [0.1,0.2])\n",
    "c = np.linalg.norm(ot - [0.1,0.3])\n",
    "d = np.linalg.norm(ot - [0.2,0.2])\n",
    "e = np.linalg.norm(ot - [0.3,0.3])\n",
    "'a:',a,'b:',b,'c:',c,'d:',d,'e:',e"
   ]
  },
  {
   "cell_type": "markdown",
   "metadata": {},
   "source": [
    "## 6."
   ]
  },
  {
   "cell_type": "code",
   "execution_count": 66,
   "metadata": {
    "collapsed": false
   },
   "outputs": [
    {
     "data": {
      "text/plain": [
       "(0.09223694094424828, 0.057763059055751742)"
      ]
     },
     "execution_count": 66,
     "metadata": {},
     "output_type": "execute_result"
    }
   ],
   "source": [
    "e_val = np.average(np.min(np.random.random_sample((1000,2)), axis=1))\n",
    "np.abs(e_val - 0.25), np.abs(e_val - 0.4)"
   ]
  },
  {
   "cell_type": "markdown",
   "metadata": {},
   "source": [
    "## PLA vs SVM"
   ]
  },
  {
   "cell_type": "markdown",
   "metadata": {},
   "source": [
    "### Quadratic Programming with SciPy\n",
    "https://docs.scipy.org/doc/scipy/reference/generated/scipy.optimize.minimize.html\n",
    "\n",
    "Another option: http://cvxopt.org/examples/tutorial/qp.html"
   ]
  },
  {
   "cell_type": "code",
   "execution_count": 273,
   "metadata": {
    "collapsed": false
   },
   "outputs": [
    {
     "data": {
      "text/plain": [
       "     fun: 0.80000000119209846\n",
       "     jac: array([ 0.80000002, -1.59999999,  0.        ])\n",
       " message: 'Optimization terminated successfully.'\n",
       "    nfev: 13\n",
       "     nit: 3\n",
       "    njev: 3\n",
       "  status: 0\n",
       " success: True\n",
       "       x: array([ 1.4,  1.7])"
      ]
     },
     "execution_count": 273,
     "metadata": {},
     "output_type": "execute_result"
    }
   ],
   "source": [
    "fun = lambda x: (x[0] - 1)**2 + (x[1] - 2.5)**2\n",
    "cons = ({'type': 'ineq', 'fun': lambda x:  x[0] - 2 * x[1] + 2},\n",
    "        {'type': 'ineq', 'fun': lambda x: -x[0] - 2 * x[1] + 6},\n",
    "        {'type': 'ineq', 'fun': lambda x: -x[0] + 2 * x[1] + 2})\n",
    "bnds = ((0, None), (0, None))\n",
    "minimize(fun, (2, 0), method='SLSQP', bounds=bnds, constraints=cons)"
   ]
  },
  {
   "cell_type": "code",
   "execution_count": 2,
   "metadata": {
    "collapsed": false
   },
   "outputs": [],
   "source": [
    "def gen_X(n):\n",
    "    '''Generates n number of [1, x1, x2] where -1 <= x <= 1'''\n",
    "    x = (np.random.rand(n,2) - 0.5) * 2\n",
    "    x = np.append(np.ones((n,1)), x, 1)\n",
    "    return x\n",
    "\n",
    "mk_two_points = lambda: (np.random.rand(2,2) - 0.5) * 2\n",
    "\n",
    "def mk_w(tps = mk_two_points()):\n",
    "    '''Makes W in the shape of [-1, w1, w2] from two points.'''\n",
    "    w0 = -1\n",
    "    w1 = (tps[1,1] - tps[0,1])/(tps[0,0]*tps[1,1] - tps[1,0]*tps[0,1])\n",
    "    w2 = (tps[1,0] - tps[0,0])/(tps[1,0]*tps[0,1] - tps[0,0]*tps[1,1])\n",
    "    return np.array([w0,w1,w2])\n",
    "\n",
    "get_Y = lambda X, W: np.sign((X * W).sum(axis=1))\n",
    "\n",
    "draw_line_from_w = lambda W, c='k-': plt.plot([-1,1], [(-W[0]+W[1])/W[2], (-W[0]-W[1])/W[2]], c)\n",
    "\n",
    "def draw_points_and_line(X, W):\n",
    "    '''X contains points with each as [1,x1,x2]. W is [w0,w1,w2]'''\n",
    "    Y = get_Y(X, W)\n",
    "    #plt.scatter(X[:,1], X[:,2])\n",
    "    x_pos = X[Y>=0,:]\n",
    "    x_neg = X[Y<0,:]\n",
    "    plt.scatter(x_pos[:,1], x_pos[:,2], color='g', marker='+')\n",
    "    plt.scatter(x_neg[:,1], x_neg[:,2], color='r')\n",
    "    #plt.plot([-1,1], [(-W[0]+W[1])/W[2], (-W[0]-W[1])/W[2]], 'k-')\n",
    "    draw_line_from_w(W)\n",
    "    plt.axis('scaled')\n",
    "    \n",
    "def draw_points_and_line_v2(X, W):\n",
    "    '''X contains points with each as [1,x1,x2]. W is [w0,w1,w2]'''\n",
    "    fig = plt.figure()\n",
    "    ax = fig.add_subplot(1,1,1)\n",
    "    ax.scatter(X[:,1], X[:,2])\n",
    "    ax.plot([-1,1], [(-W[0]+W[1])/W[2], (-W[0]-W[1])/W[2]], 'k-')\n",
    "    \n",
    "def pla(X, Y, w_init=np.array([[0,0,0]])):\n",
    "    '''PLA algorithm for a seperatable data set. Returns Wg.'''\n",
    "    max_iter = 1000000\n",
    "    n_x = len(X)\n",
    "    wg = w_init\n",
    "    for n in range(1,max_iter+1):\n",
    "        xg = np.sign((X * wg.repeat(n_x, axis=0)).sum(axis=1))\n",
    "        matches = xg == Y\n",
    "        if matches.min():  # if min value is true, meaning all true\n",
    "            break\n",
    "        else:\n",
    "            i = matches.argmin() # index of the first min (false) value\n",
    "            wg = X[i] * Y[i] + wg\n",
    "        if n == max_iter:\n",
    "            raise Exception(\"Reach max iterations for one PLA run!\")\n",
    "    return wg.flatten()\n",
    "\n",
    "def lagrangian_min_slow(α, X, Y):\n",
    "    '''\n",
    "    The negation of Lagrangian so as to present minimization optimization problem.\n",
    "    X contains a list of [x1, x2], i.e. no x0.\n",
    "    '''\n",
    "    n_x = len(X)\n",
    "    return np.sum([Y[n]*Y[m]*α[n]*α[m]*(X[n].dot(X[m])) for n in range(0,n_x) for m in range(0,n_x)])/2 - np.sum(α)\n",
    "\n",
    "def lagrangian_min(α, X, Y):\n",
    "    '''Realized that it could've been done easily with numpy.outer(a,b) instead.'''\n",
    "    r, c = X.shape\n",
    "    xv = X.reshape(r,1,c).repeat(r, axis=1)\n",
    "    xh = X.reshape(1,r,c).repeat(r, axis=0)\n",
    "    yv = Y.reshape(r,1).repeat(r, axis=1)\n",
    "    yh = Y.reshape(1,r).repeat(r, axis=0)\n",
    "    xnm = (xv*xh).sum(axis=2)\n",
    "    yy = yv * yh\n",
    "    coeff = yy * xnm\n",
    "    return α.dot(coeff).dot(α) / 2 - α.sum()\n",
    "\n",
    "def svm(X, Y):\n",
    "    '''SVM with hard margin.'''\n",
    "    fun = lambda α: lagrangian_min(α, X, Y)\n",
    "    cons = ({'type': 'eq', 'fun': lambda α: α.dot(Y)})\n",
    "    bnds = tuple([(0,None) for _ in Y])\n",
    "    init_v = tuple([0 for _ in Y])\n",
    "    res = minimize(fun, init_v, method='SLSQP', bounds=bnds, constraints=cons)\n",
    "    \n",
    "    sv = res.x > 1e-6 # anything lower is considered zero\n",
    "    α_sv = res.x[sv]\n",
    "    y_sv = Y[sv]\n",
    "    x_sv = X[sv,:]\n",
    "    w = (α_sv * y_sv).dot(x_sv)\n",
    "    b = y_sv[0] - w.dot(x_sv[0])\n",
    "    return (np.concatenate(([b],w)), np.count_nonzero(sv))"
   ]
  },
  {
   "cell_type": "code",
   "execution_count": 4,
   "metadata": {
    "collapsed": false
   },
   "outputs": [
    {
     "data": {
      "text/plain": [
       "('W =',\n",
       " array([-1.        , -2.83241111,  5.51770982]),\n",
       " 'w_pla =',\n",
       " array([-1.        , -1.18285203,  2.93894693]),\n",
       " 'w_svm =',\n",
       " array([-1.42310302, -2.75838416,  4.3543122 ]),\n",
       " 'svc=',\n",
       " 3)"
      ]
     },
     "execution_count": 4,
     "metadata": {},
     "output_type": "execute_result"
    },
    {
     "data": {
      "image/png": "[encoded data removed]",
      "text/plain": [
       "<matplotlib.figure.Figure at 0x10d6856a0>"
      ]
     },
     "metadata": {},
     "output_type": "display_data"
    }
   ],
   "source": [
    "N = 20\n",
    "X = gen_X(N)\n",
    "tps = mk_two_points()\n",
    "W = mk_w(tps)\n",
    "Y = get_Y(X, W)\n",
    "draw_points_and_line(X, W)\n",
    "\n",
    "w_pla = pla(X, Y)\n",
    "draw_line_from_w(w_pla, 'y--')\n",
    "\n",
    "w_svm, svc = svm(X[:,1:], Y)\n",
    "draw_line_from_w(w_svm, 'm-.')\n",
    "\n",
    "'W =',W, 'w_pla =',w_pla, 'w_svm =',w_svm, \"svc=\", svc"
   ]
  },
  {
   "cell_type": "code",
   "execution_count": 5,
   "metadata": {
    "collapsed": true
   },
   "outputs": [],
   "source": [
    "def err_rate(X_out, Y_out, wg):\n",
    "    y = get_Y(X_out, wg)\n",
    "    return (y != Y_out).sum() / len(Y_out)\n",
    "\n",
    "def pla_vs_svm_run(N):\n",
    "    '''SVM vs PLA run. Returns (1, svc) if SVM better, otherwise (0, svc), where svc is support vector count.'''\n",
    "    tps = mk_two_points()\n",
    "    W = mk_w(tps)\n",
    "\n",
    "    X = gen_X(N)\n",
    "    Y = get_Y(X, W)\n",
    "    \n",
    "    w_pla = pla(X, Y)\n",
    "    w_svm, svc = svm(X[:,1:], Y)\n",
    "    \n",
    "    X_out = gen_X(500)\n",
    "    Y_out = get_Y(X_out, W)\n",
    "    e_pla = err_rate(X_out, Y_out, w_pla)\n",
    "    e_svm = err_rate(X_out, Y_out, w_svm)\n",
    "\n",
    "    return [e_pla, e_svm, svc]"
   ]
  },
  {
   "cell_type": "code",
   "execution_count": 8,
   "metadata": {
    "collapsed": false
   },
   "outputs": [
    {
     "data": {
      "text/plain": [
       "(571, 909, 0.62816281628162818, 2.8591859185918591)"
      ]
     },
     "execution_count": 8,
     "metadata": {},
     "output_type": "execute_result"
    }
   ],
   "source": [
    "count_svm = 0\n",
    "total = 0\n",
    "svcs = []\n",
    "for _ in range(1000):\n",
    "    try:\n",
    "        e_pla, e_svm, svc = pla_vs_svm_run(10)\n",
    "        count_svm += e_pla > e_svm\n",
    "        svcs.append(svc)\n",
    "        total += 1\n",
    "    except:\n",
    "        pass\n",
    "count_svm, total, count_svm/total, np.average(svcs)"
   ]
  },
  {
   "cell_type": "code",
   "execution_count": 7,
   "metadata": {
    "collapsed": false
   },
   "outputs": [
    {
     "data": {
      "text/plain": [
       "(560, 997, 0.56168505516549649, 3.140421263791374)"
      ]
     },
     "execution_count": 7,
     "metadata": {},
     "output_type": "execute_result"
    }
   ],
   "source": [
    "count_svm = 0\n",
    "total = 0\n",
    "svcs = []\n",
    "for _ in range(1000):\n",
    "    try:\n",
    "        e_pla, e_svm, svc = pla_vs_svm_run(100)\n",
    "        count_svm += e_pla > e_svm\n",
    "        svcs.append(svc)\n",
    "        total += 1\n",
    "    except:\n",
    "        pass\n",
    "count_svm, total, count_svm/total, np.average(svcs)"
   ]
  },
  {
   "cell_type": "markdown",
   "metadata": {},
   "source": [
    "> The above result (of `count_svm/total`) is still not quite right."
   ]
  }
 ],
 "metadata": {
  "kernelspec": {
   "display_name": "Python 3",
   "language": "python",
   "name": "python3"
  },
  "language_info": {
   "codemirror_mode": {
    "name": "ipython",
    "version": 3
   },
   "file_extension": ".py",
   "mimetype": "text/x-python",
   "name": "python",
   "nbconvert_exporter": "python",
   "pygments_lexer": "ipython3",
   "version": "3.6.0"
  }
 },
 "nbformat": 4,
 "nbformat_minor": 2
}
